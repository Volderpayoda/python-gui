{
 "cells": [
  {
   "cell_type": "code",
   "execution_count": 1,
   "metadata": {},
   "outputs": [
    {
     "name": "stdout",
     "output_type": "stream",
     "text": [
      "nodeType: decision - value: sepal.length - limit: 5.5\n",
      "|-nodeType: decision - value: sepal.width - limit: 2.7\n",
      "  |-nodeType: decision - value: sepal.length - limit: 4.9\n",
      "    |-nodeType: decision - value: sepal.length - limit: 4.5\n",
      "      |-nodeType: leaf - value: Setosa - supportCount: 1 - confidence: 1/1\n",
      "      |-nodeType: decision - value: sepal.width - limit: 2.4\n",
      "        |-nodeType: leaf - value: Versicolor - supportCount: 1 - confidence: 1/1\n",
      "        |-nodeType: leaf - value: Virginica - supportCount: 1 - confidence: 1/1\n",
      "    |-nodeType: leaf - value: Versicolor - supportCount: 9 - confidence: 9/9\n",
      "  |-nodeType: leaf - value: Setosa - supportCount: 46 - confidence: 46/47\n",
      "|-nodeType: decision - value: sepal.width - limit: 3.6\n",
      "  |-nodeType: decision - value: sepal.length - limit: 6.2\n",
      "    |-nodeType: leaf - value: Versicolor - supportCount: 25 - confidence: 25/37\n",
      "    |-nodeType: decision - value: sepal.length - limit: 7.0\n",
      "      |-nodeType: leaf - value: Virginica - supportCount: 25 - confidence: 25/39\n",
      "      |-nodeType: leaf - value: Virginica - supportCount: 10 - confidence: 10/10\n",
      "  |-nodeType: decision - value: sepal.length - limit: 5.8\n",
      "    |-nodeType: leaf - value: Setosa - supportCount: 3 - confidence: 3/3\n",
      "    |-nodeType: leaf - value: Virginica - supportCount: 2 - confidence: 2/2\n"
     ]
    }
   ],
   "source": [
    "from IPython.core.interactiveshell import InteractiveShell\n",
    "InteractiveShell.ast_node_interactivity = \"all\"\n",
    "import numpy as np\n",
    "import pandas as pd\n",
    "%matplotlib inline\n",
    "from packages.c45 import *\n",
    "from packages.importer import *\n",
    "from packages.binaryTree import *\n",
    "from packages.plotter import *\n",
    "\n",
    "path = 'datasets/iris_min.csv'\n",
    "problem = import_csv(path)\n",
    "data = problem.data\n",
    "attributes = problem.attributes\n",
    "classcolumn = problem.classcolumn\n",
    "classes = problem.classes\n",
    "\n",
    "tree = decisionTree(data, attributes, classes, classcolumn, BinaryTree(), threshold = 0.1)\n",
    "print(tree)"
   ]
  },
  {
   "cell_type": "markdown",
   "metadata": {},
   "source": [
    "Si es el primer atributo, entonces es el eje X, sino es Y"
   ]
  },
  {
   "cell_type": "code",
   "execution_count": 2,
   "metadata": {},
   "outputs": [
    {
     "data": {
      "image/png": "[encoded data removed]",
      "text/plain": [
       "<Figure size 432x288 with 1 Axes>"
      ]
     },
     "metadata": {
      "needs_background": "light"
     },
     "output_type": "display_data"
    }
   ],
   "source": [
    "plot = plotSolution(problem, tree)"
   ]
  },
  {
   "cell_type": "code",
   "execution_count": 3,
   "metadata": {},
   "outputs": [
    {
     "data": {
      "text/plain": [
       "'0.7.1+5.3b99dbf6'"
      ]
     },
     "execution_count": 3,
     "metadata": {},
     "output_type": "execute_result"
    }
   ],
   "source": [
    "import plotly.plotly as py\n",
    "import plotly.graph_objs as go\n",
    "\n",
    "import igraph\n",
    "from igraph import *\n",
    "igraph.__version__"
   ]
  },
  {
   "cell_type": "code",
   "execution_count": 4,
   "metadata": {},
   "outputs": [],
   "source": [
    "nr_vertices = 25\n",
    "v_label = map(str, range(nr_vertices))\n",
    "G = Graph.Tree(nr_vertices, 2) # 2 stands for children number\n",
    "lay = G.layout('rt')\n",
    "\n",
    "position = {k: lay[k] for k in range(nr_vertices)}\n",
    "Y = [lay[k][1] for k in range(nr_vertices)]\n",
    "M = max(Y)\n",
    "\n",
    "es = EdgeSeq(G) # sequence of edges\n",
    "E = [e.tuple for e in G.es] # list of edges\n",
    "\n",
    "L = len(position)\n",
    "Xn = [position[k][0] for k in range(L)]\n",
    "Yn = [2*M-position[k][1] for k in range(L)]\n",
    "Xe = []\n",
    "Ye = []\n",
    "for edge in E:\n",
    "    Xe+=[position[edge[0]][0],position[edge[1]][0], None]\n",
    "    Ye+=[2*M-position[edge[0]][1],2*M-position[edge[1]][1], None] \n",
    "\n",
    "labels = v_label"
   ]
  },
  {
   "cell_type": "code",
   "execution_count": 5,
   "metadata": {},
   "outputs": [
    {
     "ename": "ValueError",
     "evalue": "\n    Invalid value of type 'builtins.str' received for the 'symbol' property of scatter.marker\n        Received value: 'dot'\n\n    The 'symbol' property is an enumeration that may be specified as:\n      - One of the following enumeration values:\n            [0, 'circle', 100, 'circle-open', 200, 'circle-dot', 300,\n            'circle-open-dot', 1, 'square', 101, 'square-open', 201,\n            'square-dot', 301, 'square-open-dot', 2, 'diamond', 102,\n            'diamond-open', 202, 'diamond-dot', 302,\n            'diamond-open-dot', 3, 'cross', 103, 'cross-open', 203,\n            'cross-dot', 303, 'cross-open-dot', 4, 'x', 104, 'x-open',\n            204, 'x-dot', 304, 'x-open-dot', 5, 'triangle-up', 105,\n            'triangle-up-open', 205, 'triangle-up-dot', 305,\n            'triangle-up-open-dot', 6, 'triangle-down', 106,\n            'triangle-down-open', 206, 'triangle-down-dot', 306,\n            'triangle-down-open-dot', 7, 'triangle-left', 107,\n            'triangle-left-open', 207, 'triangle-left-dot', 307,\n            'triangle-left-open-dot', 8, 'triangle-right', 108,\n            'triangle-right-open', 208, 'triangle-right-dot', 308,\n            'triangle-right-open-dot', 9, 'triangle-ne', 109,\n            'triangle-ne-open', 209, 'triangle-ne-dot', 309,\n            'triangle-ne-open-dot', 10, 'triangle-se', 110,\n            'triangle-se-open', 210, 'triangle-se-dot', 310,\n            'triangle-se-open-dot', 11, 'triangle-sw', 111,\n            'triangle-sw-open', 211, 'triangle-sw-dot', 311,\n            'triangle-sw-open-dot', 12, 'triangle-nw', 112,\n            'triangle-nw-open', 212, 'triangle-nw-dot', 312,\n            'triangle-nw-open-dot', 13, 'pentagon', 113,\n            'pentagon-open', 213, 'pentagon-dot', 313,\n            'pentagon-open-dot', 14, 'hexagon', 114, 'hexagon-open',\n            214, 'hexagon-dot', 314, 'hexagon-open-dot', 15,\n            'hexagon2', 115, 'hexagon2-open', 215, 'hexagon2-dot',\n            315, 'hexagon2-open-dot', 16, 'octagon', 116,\n            'octagon-open', 216, 'octagon-dot', 316,\n            'octagon-open-dot', 17, 'star', 117, 'star-open', 217,\n            'star-dot', 317, 'star-open-dot', 18, 'hexagram', 118,\n            'hexagram-open', 218, 'hexagram-dot', 318,\n            'hexagram-open-dot', 19, 'star-triangle-up', 119,\n            'star-triangle-up-open', 219, 'star-triangle-up-dot', 319,\n            'star-triangle-up-open-dot', 20, 'star-triangle-down',\n            120, 'star-triangle-down-open', 220,\n            'star-triangle-down-dot', 320,\n            'star-triangle-down-open-dot', 21, 'star-square', 121,\n            'star-square-open', 221, 'star-square-dot', 321,\n            'star-square-open-dot', 22, 'star-diamond', 122,\n            'star-diamond-open', 222, 'star-diamond-dot', 322,\n            'star-diamond-open-dot', 23, 'diamond-tall', 123,\n            'diamond-tall-open', 223, 'diamond-tall-dot', 323,\n            'diamond-tall-open-dot', 24, 'diamond-wide', 124,\n            'diamond-wide-open', 224, 'diamond-wide-dot', 324,\n            'diamond-wide-open-dot', 25, 'hourglass', 125,\n            'hourglass-open', 26, 'bowtie', 126, 'bowtie-open', 27,\n            'circle-cross', 127, 'circle-cross-open', 28, 'circle-x',\n            128, 'circle-x-open', 29, 'square-cross', 129,\n            'square-cross-open', 30, 'square-x', 130, 'square-x-open',\n            31, 'diamond-cross', 131, 'diamond-cross-open', 32,\n            'diamond-x', 132, 'diamond-x-open', 33, 'cross-thin', 133,\n            'cross-thin-open', 34, 'x-thin', 134, 'x-thin-open', 35,\n            'asterisk', 135, 'asterisk-open', 36, 'hash', 136,\n            'hash-open', 236, 'hash-dot', 336, 'hash-open-dot', 37,\n            'y-up', 137, 'y-up-open', 38, 'y-down', 138,\n            'y-down-open', 39, 'y-left', 139, 'y-left-open', 40,\n            'y-right', 140, 'y-right-open', 41, 'line-ew', 141,\n            'line-ew-open', 42, 'line-ns', 142, 'line-ns-open', 43,\n            'line-ne', 143, 'line-ne-open', 44, 'line-nw', 144,\n            'line-nw-open']\n      - A tuple, list, or one-dimensional numpy array of the above",
     "output_type": "error",
     "traceback": [
      "\u001b[1;31m---------------------------------------------------------------------------\u001b[0m",
      "\u001b[1;31mValueError\u001b[0m                                Traceback (most recent call last)",
      "\u001b[1;32m<ipython-input-5-23c95926ce52>\u001b[0m in \u001b[0;36m<module>\u001b[1;34m\u001b[0m\n\u001b[0;32m     16\u001b[0m                   \u001b[0mtext\u001b[0m\u001b[1;33m=\u001b[0m\u001b[0mlabels\u001b[0m\u001b[1;33m,\u001b[0m\u001b[1;33m\u001b[0m\u001b[1;33m\u001b[0m\u001b[0m\n\u001b[0;32m     17\u001b[0m                   \u001b[0mhoverinfo\u001b[0m\u001b[1;33m=\u001b[0m\u001b[1;34m'text'\u001b[0m\u001b[1;33m,\u001b[0m\u001b[1;33m\u001b[0m\u001b[1;33m\u001b[0m\u001b[0m\n\u001b[1;32m---> 18\u001b[1;33m                   \u001b[0mopacity\u001b[0m\u001b[1;33m=\u001b[0m\u001b[1;36m0.8\u001b[0m\u001b[1;33m\u001b[0m\u001b[1;33m\u001b[0m\u001b[0m\n\u001b[0m\u001b[0;32m     19\u001b[0m                   )\n",
      "\u001b[1;32m~\\Anaconda3\\envs\\tpia\\lib\\site-packages\\plotly\\graph_objs\\__init__.py\u001b[0m in \u001b[0;36m__init__\u001b[1;34m(self, arg, cliponaxis, connectgaps, customdata, customdatasrc, dx, dy, error_x, error_y, fill, fillcolor, groupnorm, hoverinfo, hoverinfosrc, hoverlabel, hoveron, hovertemplate, hovertemplatesrc, hovertext, hovertextsrc, ids, idssrc, legendgroup, line, marker, mode, name, opacity, orientation, r, rsrc, selected, selectedpoints, showlegend, stackgaps, stackgroup, stream, t, text, textfont, textposition, textpositionsrc, textsrc, tsrc, uid, uirevision, unselected, visible, x, x0, xaxis, xcalendar, xsrc, y, y0, yaxis, ycalendar, ysrc, **kwargs)\u001b[0m\n\u001b[0;32m  37413\u001b[0m         \u001b[0mself\u001b[0m\u001b[1;33m[\u001b[0m\u001b[1;34m'line'\u001b[0m\u001b[1;33m]\u001b[0m \u001b[1;33m=\u001b[0m \u001b[0mline\u001b[0m \u001b[1;32mif\u001b[0m \u001b[0mline\u001b[0m \u001b[1;32mis\u001b[0m \u001b[1;32mnot\u001b[0m \u001b[1;32mNone\u001b[0m \u001b[1;32melse\u001b[0m \u001b[0m_v\u001b[0m\u001b[1;33m\u001b[0m\u001b[1;33m\u001b[0m\u001b[0m\n\u001b[0;32m  37414\u001b[0m         \u001b[0m_v\u001b[0m \u001b[1;33m=\u001b[0m \u001b[0marg\u001b[0m\u001b[1;33m.\u001b[0m\u001b[0mpop\u001b[0m\u001b[1;33m(\u001b[0m\u001b[1;34m'marker'\u001b[0m\u001b[1;33m,\u001b[0m \u001b[1;32mNone\u001b[0m\u001b[1;33m)\u001b[0m\u001b[1;33m\u001b[0m\u001b[1;33m\u001b[0m\u001b[0m\n\u001b[1;32m> 37415\u001b[1;33m         \u001b[0mself\u001b[0m\u001b[1;33m[\u001b[0m\u001b[1;34m'marker'\u001b[0m\u001b[1;33m]\u001b[0m \u001b[1;33m=\u001b[0m \u001b[0mmarker\u001b[0m \u001b[1;32mif\u001b[0m \u001b[0mmarker\u001b[0m \u001b[1;32mis\u001b[0m \u001b[1;32mnot\u001b[0m \u001b[1;32mNone\u001b[0m \u001b[1;32melse\u001b[0m \u001b[0m_v\u001b[0m\u001b[1;33m\u001b[0m\u001b[1;33m\u001b[0m\u001b[0m\n\u001b[0m\u001b[0;32m  37416\u001b[0m         \u001b[0m_v\u001b[0m \u001b[1;33m=\u001b[0m \u001b[0marg\u001b[0m\u001b[1;33m.\u001b[0m\u001b[0mpop\u001b[0m\u001b[1;33m(\u001b[0m\u001b[1;34m'mode'\u001b[0m\u001b[1;33m,\u001b[0m \u001b[1;32mNone\u001b[0m\u001b[1;33m)\u001b[0m\u001b[1;33m\u001b[0m\u001b[1;33m\u001b[0m\u001b[0m\n\u001b[0;32m  37417\u001b[0m         \u001b[0mself\u001b[0m\u001b[1;33m[\u001b[0m\u001b[1;34m'mode'\u001b[0m\u001b[1;33m]\u001b[0m \u001b[1;33m=\u001b[0m \u001b[0mmode\u001b[0m \u001b[1;32mif\u001b[0m \u001b[0mmode\u001b[0m \u001b[1;32mis\u001b[0m \u001b[1;32mnot\u001b[0m \u001b[1;32mNone\u001b[0m \u001b[1;32melse\u001b[0m \u001b[0m_v\u001b[0m\u001b[1;33m\u001b[0m\u001b[1;33m\u001b[0m\u001b[0m\n",
      "\u001b[1;32m~\\Anaconda3\\envs\\tpia\\lib\\site-packages\\plotly\\basedatatypes.py\u001b[0m in \u001b[0;36m__setitem__\u001b[1;34m(self, prop, value)\u001b[0m\n\u001b[0;32m   2878\u001b[0m             \u001b[1;31m# ### Handle compound property ###\u001b[0m\u001b[1;33m\u001b[0m\u001b[1;33m\u001b[0m\u001b[1;33m\u001b[0m\u001b[0m\n\u001b[0;32m   2879\u001b[0m             \u001b[1;32mif\u001b[0m \u001b[0misinstance\u001b[0m\u001b[1;33m(\u001b[0m\u001b[0mvalidator\u001b[0m\u001b[1;33m,\u001b[0m \u001b[0mCompoundValidator\u001b[0m\u001b[1;33m)\u001b[0m\u001b[1;33m:\u001b[0m\u001b[1;33m\u001b[0m\u001b[1;33m\u001b[0m\u001b[0m\n\u001b[1;32m-> 2880\u001b[1;33m                 \u001b[0mself\u001b[0m\u001b[1;33m.\u001b[0m\u001b[0m_set_compound_prop\u001b[0m\u001b[1;33m(\u001b[0m\u001b[0mprop\u001b[0m\u001b[1;33m,\u001b[0m \u001b[0mvalue\u001b[0m\u001b[1;33m)\u001b[0m\u001b[1;33m\u001b[0m\u001b[1;33m\u001b[0m\u001b[0m\n\u001b[0m\u001b[0;32m   2881\u001b[0m \u001b[1;33m\u001b[0m\u001b[0m\n\u001b[0;32m   2882\u001b[0m             \u001b[1;31m# ### Handle compound array property ###\u001b[0m\u001b[1;33m\u001b[0m\u001b[1;33m\u001b[0m\u001b[1;33m\u001b[0m\u001b[0m\n",
      "\u001b[1;32m~\\Anaconda3\\envs\\tpia\\lib\\site-packages\\plotly\\basedatatypes.py\u001b[0m in \u001b[0;36m_set_compound_prop\u001b[1;34m(self, prop, val)\u001b[0m\n\u001b[0;32m   3187\u001b[0m         \u001b[0mvalidator\u001b[0m \u001b[1;33m=\u001b[0m \u001b[0mself\u001b[0m\u001b[1;33m.\u001b[0m\u001b[0m_validators\u001b[0m\u001b[1;33m.\u001b[0m\u001b[0mget\u001b[0m\u001b[1;33m(\u001b[0m\u001b[0mprop\u001b[0m\u001b[1;33m)\u001b[0m\u001b[1;33m\u001b[0m\u001b[1;33m\u001b[0m\u001b[0m\n\u001b[0;32m   3188\u001b[0m         \u001b[1;31m# type: BasePlotlyType\u001b[0m\u001b[1;33m\u001b[0m\u001b[1;33m\u001b[0m\u001b[1;33m\u001b[0m\u001b[0m\n\u001b[1;32m-> 3189\u001b[1;33m         \u001b[0mval\u001b[0m \u001b[1;33m=\u001b[0m \u001b[0mvalidator\u001b[0m\u001b[1;33m.\u001b[0m\u001b[0mvalidate_coerce\u001b[0m\u001b[1;33m(\u001b[0m\u001b[0mval\u001b[0m\u001b[1;33m,\u001b[0m \u001b[0mskip_invalid\u001b[0m\u001b[1;33m=\u001b[0m\u001b[0mself\u001b[0m\u001b[1;33m.\u001b[0m\u001b[0m_skip_invalid\u001b[0m\u001b[1;33m)\u001b[0m\u001b[1;33m\u001b[0m\u001b[1;33m\u001b[0m\u001b[0m\n\u001b[0m\u001b[0;32m   3190\u001b[0m \u001b[1;33m\u001b[0m\u001b[0m\n\u001b[0;32m   3191\u001b[0m         \u001b[1;31m# Save deep copies of current and new states\u001b[0m\u001b[1;33m\u001b[0m\u001b[1;33m\u001b[0m\u001b[1;33m\u001b[0m\u001b[0m\n",
      "\u001b[1;32m~\\Anaconda3\\envs\\tpia\\lib\\site-packages\\_plotly_utils\\basevalidators.py\u001b[0m in \u001b[0;36mvalidate_coerce\u001b[1;34m(self, v, skip_invalid)\u001b[0m\n\u001b[0;32m   2128\u001b[0m \u001b[1;33m\u001b[0m\u001b[0m\n\u001b[0;32m   2129\u001b[0m         \u001b[1;32melif\u001b[0m \u001b[0misinstance\u001b[0m\u001b[1;33m(\u001b[0m\u001b[0mv\u001b[0m\u001b[1;33m,\u001b[0m \u001b[0mdict\u001b[0m\u001b[1;33m)\u001b[0m\u001b[1;33m:\u001b[0m\u001b[1;33m\u001b[0m\u001b[1;33m\u001b[0m\u001b[0m\n\u001b[1;32m-> 2130\u001b[1;33m             \u001b[0mv\u001b[0m \u001b[1;33m=\u001b[0m \u001b[0mself\u001b[0m\u001b[1;33m.\u001b[0m\u001b[0mdata_class\u001b[0m\u001b[1;33m(\u001b[0m\u001b[0mv\u001b[0m\u001b[1;33m,\u001b[0m \u001b[0mskip_invalid\u001b[0m\u001b[1;33m=\u001b[0m\u001b[0mskip_invalid\u001b[0m\u001b[1;33m)\u001b[0m\u001b[1;33m\u001b[0m\u001b[1;33m\u001b[0m\u001b[0m\n\u001b[0m\u001b[0;32m   2131\u001b[0m \u001b[1;33m\u001b[0m\u001b[0m\n\u001b[0;32m   2132\u001b[0m         \u001b[1;32melif\u001b[0m \u001b[0misinstance\u001b[0m\u001b[1;33m(\u001b[0m\u001b[0mv\u001b[0m\u001b[1;33m,\u001b[0m \u001b[0mself\u001b[0m\u001b[1;33m.\u001b[0m\u001b[0mdata_class\u001b[0m\u001b[1;33m)\u001b[0m\u001b[1;33m:\u001b[0m\u001b[1;33m\u001b[0m\u001b[1;33m\u001b[0m\u001b[0m\n",
      "\u001b[1;32m~\\Anaconda3\\envs\\tpia\\lib\\site-packages\\plotly\\graph_objs\\scatter\\__init__.py\u001b[0m in \u001b[0;36m__init__\u001b[1;34m(self, arg, autocolorscale, cauto, cmax, cmid, cmin, color, colorbar, colorscale, colorsrc, gradient, line, maxdisplayed, opacity, opacitysrc, reversescale, showscale, size, sizemin, sizemode, sizeref, sizesrc, symbol, symbolsrc, **kwargs)\u001b[0m\n\u001b[0;32m   2071\u001b[0m         \u001b[0mself\u001b[0m\u001b[1;33m[\u001b[0m\u001b[1;34m'sizesrc'\u001b[0m\u001b[1;33m]\u001b[0m \u001b[1;33m=\u001b[0m \u001b[0msizesrc\u001b[0m \u001b[1;32mif\u001b[0m \u001b[0msizesrc\u001b[0m \u001b[1;32mis\u001b[0m \u001b[1;32mnot\u001b[0m \u001b[1;32mNone\u001b[0m \u001b[1;32melse\u001b[0m \u001b[0m_v\u001b[0m\u001b[1;33m\u001b[0m\u001b[1;33m\u001b[0m\u001b[0m\n\u001b[0;32m   2072\u001b[0m         \u001b[0m_v\u001b[0m \u001b[1;33m=\u001b[0m \u001b[0marg\u001b[0m\u001b[1;33m.\u001b[0m\u001b[0mpop\u001b[0m\u001b[1;33m(\u001b[0m\u001b[1;34m'symbol'\u001b[0m\u001b[1;33m,\u001b[0m \u001b[1;32mNone\u001b[0m\u001b[1;33m)\u001b[0m\u001b[1;33m\u001b[0m\u001b[1;33m\u001b[0m\u001b[0m\n\u001b[1;32m-> 2073\u001b[1;33m         \u001b[0mself\u001b[0m\u001b[1;33m[\u001b[0m\u001b[1;34m'symbol'\u001b[0m\u001b[1;33m]\u001b[0m \u001b[1;33m=\u001b[0m \u001b[0msymbol\u001b[0m \u001b[1;32mif\u001b[0m \u001b[0msymbol\u001b[0m \u001b[1;32mis\u001b[0m \u001b[1;32mnot\u001b[0m \u001b[1;32mNone\u001b[0m \u001b[1;32melse\u001b[0m \u001b[0m_v\u001b[0m\u001b[1;33m\u001b[0m\u001b[1;33m\u001b[0m\u001b[0m\n\u001b[0m\u001b[0;32m   2074\u001b[0m         \u001b[0m_v\u001b[0m \u001b[1;33m=\u001b[0m \u001b[0marg\u001b[0m\u001b[1;33m.\u001b[0m\u001b[0mpop\u001b[0m\u001b[1;33m(\u001b[0m\u001b[1;34m'symbolsrc'\u001b[0m\u001b[1;33m,\u001b[0m \u001b[1;32mNone\u001b[0m\u001b[1;33m)\u001b[0m\u001b[1;33m\u001b[0m\u001b[1;33m\u001b[0m\u001b[0m\n\u001b[0;32m   2075\u001b[0m         \u001b[0mself\u001b[0m\u001b[1;33m[\u001b[0m\u001b[1;34m'symbolsrc'\u001b[0m\u001b[1;33m]\u001b[0m \u001b[1;33m=\u001b[0m \u001b[0msymbolsrc\u001b[0m \u001b[1;32mif\u001b[0m \u001b[0msymbolsrc\u001b[0m \u001b[1;32mis\u001b[0m \u001b[1;32mnot\u001b[0m \u001b[1;32mNone\u001b[0m \u001b[1;32melse\u001b[0m \u001b[0m_v\u001b[0m\u001b[1;33m\u001b[0m\u001b[1;33m\u001b[0m\u001b[0m\n",
      "\u001b[1;32m~\\Anaconda3\\envs\\tpia\\lib\\site-packages\\plotly\\basedatatypes.py\u001b[0m in \u001b[0;36m__setitem__\u001b[1;34m(self, prop, value)\u001b[0m\n\u001b[0;32m   2887\u001b[0m             \u001b[1;31m# ### Handle simple property ###\u001b[0m\u001b[1;33m\u001b[0m\u001b[1;33m\u001b[0m\u001b[1;33m\u001b[0m\u001b[0m\n\u001b[0;32m   2888\u001b[0m             \u001b[1;32melse\u001b[0m\u001b[1;33m:\u001b[0m\u001b[1;33m\u001b[0m\u001b[1;33m\u001b[0m\u001b[0m\n\u001b[1;32m-> 2889\u001b[1;33m                 \u001b[0mself\u001b[0m\u001b[1;33m.\u001b[0m\u001b[0m_set_prop\u001b[0m\u001b[1;33m(\u001b[0m\u001b[0mprop\u001b[0m\u001b[1;33m,\u001b[0m \u001b[0mvalue\u001b[0m\u001b[1;33m)\u001b[0m\u001b[1;33m\u001b[0m\u001b[1;33m\u001b[0m\u001b[0m\n\u001b[0m\u001b[0;32m   2890\u001b[0m \u001b[1;33m\u001b[0m\u001b[0m\n\u001b[0;32m   2891\u001b[0m         \u001b[1;31m# Handle non-scalar case\u001b[0m\u001b[1;33m\u001b[0m\u001b[1;33m\u001b[0m\u001b[1;33m\u001b[0m\u001b[0m\n",
      "\u001b[1;32m~\\Anaconda3\\envs\\tpia\\lib\\site-packages\\plotly\\basedatatypes.py\u001b[0m in \u001b[0;36m_set_prop\u001b[1;34m(self, prop, val)\u001b[0m\n\u001b[0;32m   3128\u001b[0m                 \u001b[1;32mreturn\u001b[0m\u001b[1;33m\u001b[0m\u001b[1;33m\u001b[0m\u001b[0m\n\u001b[0;32m   3129\u001b[0m             \u001b[1;32melse\u001b[0m\u001b[1;33m:\u001b[0m\u001b[1;33m\u001b[0m\u001b[1;33m\u001b[0m\u001b[0m\n\u001b[1;32m-> 3130\u001b[1;33m                 \u001b[1;32mraise\u001b[0m \u001b[0merr\u001b[0m\u001b[1;33m\u001b[0m\u001b[1;33m\u001b[0m\u001b[0m\n\u001b[0m\u001b[0;32m   3131\u001b[0m \u001b[1;33m\u001b[0m\u001b[0m\n\u001b[0;32m   3132\u001b[0m         \u001b[1;31m# val is None\u001b[0m\u001b[1;33m\u001b[0m\u001b[1;33m\u001b[0m\u001b[1;33m\u001b[0m\u001b[0m\n",
      "\u001b[1;32m~\\Anaconda3\\envs\\tpia\\lib\\site-packages\\plotly\\basedatatypes.py\u001b[0m in \u001b[0;36m_set_prop\u001b[1;34m(self, prop, val)\u001b[0m\n\u001b[0;32m   3123\u001b[0m         \u001b[0mvalidator\u001b[0m \u001b[1;33m=\u001b[0m \u001b[0mself\u001b[0m\u001b[1;33m.\u001b[0m\u001b[0m_validators\u001b[0m\u001b[1;33m.\u001b[0m\u001b[0mget\u001b[0m\u001b[1;33m(\u001b[0m\u001b[0mprop\u001b[0m\u001b[1;33m)\u001b[0m\u001b[1;33m\u001b[0m\u001b[1;33m\u001b[0m\u001b[0m\n\u001b[0;32m   3124\u001b[0m         \u001b[1;32mtry\u001b[0m\u001b[1;33m:\u001b[0m\u001b[1;33m\u001b[0m\u001b[1;33m\u001b[0m\u001b[0m\n\u001b[1;32m-> 3125\u001b[1;33m             \u001b[0mval\u001b[0m \u001b[1;33m=\u001b[0m \u001b[0mvalidator\u001b[0m\u001b[1;33m.\u001b[0m\u001b[0mvalidate_coerce\u001b[0m\u001b[1;33m(\u001b[0m\u001b[0mval\u001b[0m\u001b[1;33m)\u001b[0m\u001b[1;33m\u001b[0m\u001b[1;33m\u001b[0m\u001b[0m\n\u001b[0m\u001b[0;32m   3126\u001b[0m         \u001b[1;32mexcept\u001b[0m \u001b[0mValueError\u001b[0m \u001b[1;32mas\u001b[0m \u001b[0merr\u001b[0m\u001b[1;33m:\u001b[0m\u001b[1;33m\u001b[0m\u001b[1;33m\u001b[0m\u001b[0m\n\u001b[0;32m   3127\u001b[0m             \u001b[1;32mif\u001b[0m \u001b[0mself\u001b[0m\u001b[1;33m.\u001b[0m\u001b[0m_skip_invalid\u001b[0m\u001b[1;33m:\u001b[0m\u001b[1;33m\u001b[0m\u001b[1;33m\u001b[0m\u001b[0m\n",
      "\u001b[1;32m~\\Anaconda3\\envs\\tpia\\lib\\site-packages\\_plotly_utils\\basevalidators.py\u001b[0m in \u001b[0;36mvalidate_coerce\u001b[1;34m(self, v)\u001b[0m\n\u001b[0;32m    561\u001b[0m             \u001b[0mv\u001b[0m \u001b[1;33m=\u001b[0m \u001b[0mself\u001b[0m\u001b[1;33m.\u001b[0m\u001b[0mperform_replacemenet\u001b[0m\u001b[1;33m(\u001b[0m\u001b[0mv\u001b[0m\u001b[1;33m)\u001b[0m\u001b[1;33m\u001b[0m\u001b[1;33m\u001b[0m\u001b[0m\n\u001b[0;32m    562\u001b[0m             \u001b[1;32mif\u001b[0m \u001b[1;32mnot\u001b[0m \u001b[0mself\u001b[0m\u001b[1;33m.\u001b[0m\u001b[0min_values\u001b[0m\u001b[1;33m(\u001b[0m\u001b[0mv\u001b[0m\u001b[1;33m)\u001b[0m\u001b[1;33m:\u001b[0m\u001b[1;33m\u001b[0m\u001b[1;33m\u001b[0m\u001b[0m\n\u001b[1;32m--> 563\u001b[1;33m                 \u001b[0mself\u001b[0m\u001b[1;33m.\u001b[0m\u001b[0mraise_invalid_val\u001b[0m\u001b[1;33m(\u001b[0m\u001b[0mv\u001b[0m\u001b[1;33m)\u001b[0m\u001b[1;33m\u001b[0m\u001b[1;33m\u001b[0m\u001b[0m\n\u001b[0m\u001b[0;32m    564\u001b[0m         \u001b[1;32mreturn\u001b[0m \u001b[0mv\u001b[0m\u001b[1;33m\u001b[0m\u001b[1;33m\u001b[0m\u001b[0m\n\u001b[0;32m    565\u001b[0m \u001b[1;33m\u001b[0m\u001b[0m\n",
      "\u001b[1;32m~\\Anaconda3\\envs\\tpia\\lib\\site-packages\\_plotly_utils\\basevalidators.py\u001b[0m in \u001b[0;36mraise_invalid_val\u001b[1;34m(self, v, inds)\u001b[0m\n\u001b[0;32m    275\u001b[0m             \u001b[0mtyp\u001b[0m\u001b[1;33m=\u001b[0m\u001b[0mtype_str\u001b[0m\u001b[1;33m(\u001b[0m\u001b[0mv\u001b[0m\u001b[1;33m)\u001b[0m\u001b[1;33m,\u001b[0m\u001b[1;33m\u001b[0m\u001b[1;33m\u001b[0m\u001b[0m\n\u001b[0;32m    276\u001b[0m             \u001b[0mv\u001b[0m\u001b[1;33m=\u001b[0m\u001b[0mrepr\u001b[0m\u001b[1;33m(\u001b[0m\u001b[0mv\u001b[0m\u001b[1;33m)\u001b[0m\u001b[1;33m,\u001b[0m\u001b[1;33m\u001b[0m\u001b[1;33m\u001b[0m\u001b[0m\n\u001b[1;32m--> 277\u001b[1;33m             valid_clr_desc=self.description()))\n\u001b[0m\u001b[0;32m    278\u001b[0m \u001b[1;33m\u001b[0m\u001b[0m\n\u001b[0;32m    279\u001b[0m     \u001b[1;32mdef\u001b[0m \u001b[0mraise_invalid_elements\u001b[0m\u001b[1;33m(\u001b[0m\u001b[0mself\u001b[0m\u001b[1;33m,\u001b[0m \u001b[0minvalid_els\u001b[0m\u001b[1;33m)\u001b[0m\u001b[1;33m:\u001b[0m\u001b[1;33m\u001b[0m\u001b[1;33m\u001b[0m\u001b[0m\n",
      "\u001b[1;31mValueError\u001b[0m: \n    Invalid value of type 'builtins.str' received for the 'symbol' property of scatter.marker\n        Received value: 'dot'\n\n    The 'symbol' property is an enumeration that may be specified as:\n      - One of the following enumeration values:\n            [0, 'circle', 100, 'circle-open', 200, 'circle-dot', 300,\n            'circle-open-dot', 1, 'square', 101, 'square-open', 201,\n            'square-dot', 301, 'square-open-dot', 2, 'diamond', 102,\n            'diamond-open', 202, 'diamond-dot', 302,\n            'diamond-open-dot', 3, 'cross', 103, 'cross-open', 203,\n            'cross-dot', 303, 'cross-open-dot', 4, 'x', 104, 'x-open',\n            204, 'x-dot', 304, 'x-open-dot', 5, 'triangle-up', 105,\n            'triangle-up-open', 205, 'triangle-up-dot', 305,\n            'triangle-up-open-dot', 6, 'triangle-down', 106,\n            'triangle-down-open', 206, 'triangle-down-dot', 306,\n            'triangle-down-open-dot', 7, 'triangle-left', 107,\n            'triangle-left-open', 207, 'triangle-left-dot', 307,\n            'triangle-left-open-dot', 8, 'triangle-right', 108,\n            'triangle-right-open', 208, 'triangle-right-dot', 308,\n            'triangle-right-open-dot', 9, 'triangle-ne', 109,\n            'triangle-ne-open', 209, 'triangle-ne-dot', 309,\n            'triangle-ne-open-dot', 10, 'triangle-se', 110,\n            'triangle-se-open', 210, 'triangle-se-dot', 310,\n            'triangle-se-open-dot', 11, 'triangle-sw', 111,\n            'triangle-sw-open', 211, 'triangle-sw-dot', 311,\n            'triangle-sw-open-dot', 12, 'triangle-nw', 112,\n            'triangle-nw-open', 212, 'triangle-nw-dot', 312,\n            'triangle-nw-open-dot', 13, 'pentagon', 113,\n            'pentagon-open', 213, 'pentagon-dot', 313,\n            'pentagon-open-dot', 14, 'hexagon', 114, 'hexagon-open',\n            214, 'hexagon-dot', 314, 'hexagon-open-dot', 15,\n            'hexagon2', 115, 'hexagon2-open', 215, 'hexagon2-dot',\n            315, 'hexagon2-open-dot', 16, 'octagon', 116,\n            'octagon-open', 216, 'octagon-dot', 316,\n            'octagon-open-dot', 17, 'star', 117, 'star-open', 217,\n            'star-dot', 317, 'star-open-dot', 18, 'hexagram', 118,\n            'hexagram-open', 218, 'hexagram-dot', 318,\n            'hexagram-open-dot', 19, 'star-triangle-up', 119,\n            'star-triangle-up-open', 219, 'star-triangle-up-dot', 319,\n            'star-triangle-up-open-dot', 20, 'star-triangle-down',\n            120, 'star-triangle-down-open', 220,\n            'star-triangle-down-dot', 320,\n            'star-triangle-down-open-dot', 21, 'star-square', 121,\n            'star-square-open', 221, 'star-square-dot', 321,\n            'star-square-open-dot', 22, 'star-diamond', 122,\n            'star-diamond-open', 222, 'star-diamond-dot', 322,\n            'star-diamond-open-dot', 23, 'diamond-tall', 123,\n            'diamond-tall-open', 223, 'diamond-tall-dot', 323,\n            'diamond-tall-open-dot', 24, 'diamond-wide', 124,\n            'diamond-wide-open', 224, 'diamond-wide-dot', 324,\n            'diamond-wide-open-dot', 25, 'hourglass', 125,\n            'hourglass-open', 26, 'bowtie', 126, 'bowtie-open', 27,\n            'circle-cross', 127, 'circle-cross-open', 28, 'circle-x',\n            128, 'circle-x-open', 29, 'square-cross', 129,\n            'square-cross-open', 30, 'square-x', 130, 'square-x-open',\n            31, 'diamond-cross', 131, 'diamond-cross-open', 32,\n            'diamond-x', 132, 'diamond-x-open', 33, 'cross-thin', 133,\n            'cross-thin-open', 34, 'x-thin', 134, 'x-thin-open', 35,\n            'asterisk', 135, 'asterisk-open', 36, 'hash', 136,\n            'hash-open', 236, 'hash-dot', 336, 'hash-open-dot', 37,\n            'y-up', 137, 'y-up-open', 38, 'y-down', 138,\n            'y-down-open', 39, 'y-left', 139, 'y-left-open', 40,\n            'y-right', 140, 'y-right-open', 41, 'line-ew', 141,\n            'line-ew-open', 42, 'line-ns', 142, 'line-ns-open', 43,\n            'line-ne', 143, 'line-ne-open', 44, 'line-nw', 144,\n            'line-nw-open']\n      - A tuple, list, or one-dimensional numpy array of the above"
     ]
    }
   ],
   "source": [
    "lines = go.Scatter(x=Xe,\n",
    "                   y=Ye,\n",
    "                   mode='lines',\n",
    "                   line=dict(color='rgb(210,210,210)', width=1),\n",
    "                   hoverinfo='none'\n",
    "                   )\n",
    "dots = go.Scatter(x=Xn,\n",
    "                  y=Yn,\n",
    "                  mode='markers',\n",
    "                  name='',\n",
    "                  marker=dict(symbol='dot',\n",
    "                                size=18, \n",
    "                                color='#6175c1',    #'#DB4551', \n",
    "                                line=dict(color='rgb(50,50,50)', width=1)\n",
    "                                ),\n",
    "                  text=labels,\n",
    "                  hoverinfo='text',\n",
    "                  opacity=0.8\n",
    "                  )"
   ]
  },
  {
   "cell_type": "code",
   "execution_count": null,
   "metadata": {},
   "outputs": [],
   "source": [
    "def make_annotations(pos, text, font_size=10, font_color='rgb(250,250,250)'):\n",
    "    L=len(pos)\n",
    "    if len(text)!=L:\n",
    "        raise ValueError('The lists pos and text must have the same len')\n",
    "    annotations = go.Annotations()\n",
    "    for k in range(L):\n",
    "        annotations.append(\n",
    "            go.Annotation(\n",
    "                text=labels[k], # or replace labels with a different list for the text within the circle  \n",
    "                x=pos[k][0], y=2*M-position[k][1],\n",
    "                xref='x1', yref='y1',\n",
    "                font=dict(color=font_color, size=font_size),\n",
    "                showarrow=False)\n",
    "        )\n",
    "    return annotations  "
   ]
  },
  {
   "cell_type": "code",
   "execution_count": null,
   "metadata": {},
   "outputs": [],
   "source": [
    "axis = dict(showline=False, # hide axis line, grid, ticklabels and  title\n",
    "            zeroline=False,\n",
    "            showgrid=False,\n",
    "            showticklabels=False,\n",
    "            )\n",
    "\n",
    "layout = dict(title= 'Tree with Reingold-Tilford Layout',  \n",
    "              annotations=make_annotations(position, v_label),\n",
    "              font=dict(size=12),\n",
    "              showlegend=False,\n",
    "              xaxis=go.XAxis(axis),\n",
    "              yaxis=go.YAxis(axis),          \n",
    "              margin=dict(l=40, r=40, b=85, t=100),\n",
    "              hovermode='closest',\n",
    "              plot_bgcolor='rgb(248,248,248)'          \n",
    "              )"
   ]
  },
  {
   "cell_type": "code",
   "execution_count": null,
   "metadata": {},
   "outputs": [],
   "source": [
    "data=go.Data([lines, dots])\n",
    "fig=dict(data=data, layout=layout)\n",
    "fig['layout'].update(annotations=make_annotations(position, v_label))\n",
    "py.iplot(fig, filename='Tree-Reingold-Tilf')"
   ]
  }
 ],
 "metadata": {
  "kernelspec": {
   "display_name": "Python 3",
   "language": "python",
   "name": "python3"
  },
  "language_info": {
   "codemirror_mode": {
    "name": "ipython",
    "version": 3
   },
   "file_extension": ".py",
   "mimetype": "text/x-python",
   "name": "python",
   "nbconvert_exporter": "python",
   "pygments_lexer": "ipython3",
   "version": "3.7.3"
  }
 },
 "nbformat": 4,
 "nbformat_minor": 2
}
