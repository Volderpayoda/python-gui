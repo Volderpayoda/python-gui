{
 "cells": [
  {
   "cell_type": "code",
   "execution_count": 1,
   "metadata": {},
   "outputs": [
    {
     "name": "stdout",
     "output_type": "stream",
     "text": [
      "nodeType: decision - value: sepal.length - limit: 5.5\n",
      "|-nodeType: decision - value: sepal.width - limit: 2.7\n",
      "  |-nodeType: decision - value: sepal.length - limit: 4.9\n",
      "    |-nodeType: decision - value: sepal.length - limit: 4.5\n",
      "      |-nodeType: leaf - value: Setosa - supportCount: 1 - confidence: 1/1\n",
      "      |-nodeType: decision - value: sepal.width - limit: 2.4\n",
      "        |-nodeType: leaf - value: Versicolor - supportCount: 1 - confidence: 1/1\n",
      "        |-nodeType: leaf - value: Virginica - supportCount: 1 - confidence: 1/1\n",
      "    |-nodeType: leaf - value: Versicolor - supportCount: 9 - confidence: 9/9\n",
      "  |-nodeType: leaf - value: Setosa - supportCount: 46 - confidence: 46/47\n",
      "|-nodeType: decision - value: sepal.width - limit: 3.6\n",
      "  |-nodeType: decision - value: sepal.length - limit: 6.2\n",
      "    |-nodeType: leaf - value: Versicolor - supportCount: 25 - confidence: 25/37\n",
      "    |-nodeType: decision - value: sepal.length - limit: 7.0\n",
      "      |-nodeType: leaf - value: Virginica - supportCount: 25 - confidence: 25/39\n",
      "      |-nodeType: leaf - value: Virginica - supportCount: 10 - confidence: 10/10\n",
      "  |-nodeType: decision - value: sepal.length - limit: 5.8\n",
      "    |-nodeType: leaf - value: Setosa - supportCount: 3 - confidence: 3/3\n",
      "    |-nodeType: leaf - value: Virginica - supportCount: 2 - confidence: 2/2\n"
     ]
    }
   ],
   "source": [
    "from IPython.core.interactiveshell import InteractiveShell\n",
    "InteractiveShell.ast_node_interactivity = \"all\"\n",
    "import numpy as np\n",
    "import pandas as pd\n",
    "\n",
    "from packages.c45 import *\n",
    "from packages.importer import *\n",
    "from packages.binaryTree import *\n",
    "\n",
    "path = 'datasets/iris_min.csv'\n",
    "dictionary = import_csv(path)\n",
    "data = dictionary['data']\n",
    "attributes = dictionary['attributes']\n",
    "classcolumn = dictionary['classcolumn']\n",
    "classes = dictionary['classes']\n",
    "\n",
    "tree = decisionTree(data, attributes, classes, classcolumn, BinaryTree(), threshold = 0.1)\n",
    "print(tree)"
   ]
  },
  {
   "cell_type": "code",
   "execution_count": null,
   "metadata": {},
   "outputs": [],
   "source": []
  }
 ],
 "metadata": {
  "kernelspec": {
   "display_name": "Python 3",
   "language": "python",
   "name": "python3"
  },
  "language_info": {
   "codemirror_mode": {
    "name": "ipython",
    "version": 3
   },
   "file_extension": ".py",
   "mimetype": "text/x-python",
   "name": "python",
   "nbconvert_exporter": "python",
   "pygments_lexer": "ipython3",
   "version": "3.7.1"
  }
 },
 "nbformat": 4,
 "nbformat_minor": 2
}
