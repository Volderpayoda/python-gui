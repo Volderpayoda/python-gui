{
 "cells": [
  {
   "cell_type": "code",
   "execution_count": 1,
   "metadata": {},
   "outputs": [
    {
     "name": "stdout",
     "output_type": "stream",
     "text": [
      "nodeType: decision - value: sepal.length - limit: 5.5\n",
      "|-nodeType: decision - value: sepal.width - limit: 2.7\n",
      "  |-nodeType: decision - value: sepal.length - limit: 4.9\n",
      "    |-nodeType: decision - value: sepal.length - limit: 4.5\n",
      "      |-nodeType: leaf - value: Setosa - supportCount: 1 - confidence: 1/1\n",
      "      |-nodeType: decision - value: sepal.width - limit: 2.4\n",
      "        |-nodeType: leaf - value: Versicolor - supportCount: 1 - confidence: 1/1\n",
      "        |-nodeType: leaf - value: Virginica - supportCount: 1 - confidence: 1/1\n",
      "    |-nodeType: leaf - value: Versicolor - supportCount: 9 - confidence: 9/9\n",
      "  |-nodeType: leaf - value: Setosa - supportCount: 46 - confidence: 46/47\n",
      "|-nodeType: decision - value: sepal.width - limit: 3.6\n",
      "  |-nodeType: decision - value: sepal.length - limit: 6.2\n",
      "    |-nodeType: leaf - value: Versicolor - supportCount: 25 - confidence: 25/37\n",
      "    |-nodeType: decision - value: sepal.length - limit: 7.0\n",
      "      |-nodeType: leaf - value: Virginica - supportCount: 25 - confidence: 25/39\n",
      "      |-nodeType: leaf - value: Virginica - supportCount: 10 - confidence: 10/10\n",
      "  |-nodeType: decision - value: sepal.length - limit: 5.8\n",
      "    |-nodeType: leaf - value: Setosa - supportCount: 3 - confidence: 3/3\n",
      "    |-nodeType: leaf - value: Virginica - supportCount: 2 - confidence: 2/2\n"
     ]
    }
   ],
   "source": [
    "from IPython.core.interactiveshell import InteractiveShell\n",
    "InteractiveShell.ast_node_interactivity = \"all\"\n",
    "import numpy as np\n",
    "import pandas as pd\n",
    "import matplotlib.pyplot as plt\n",
    "import matplotlib.cm as cm\n",
    "%matplotlib inline\n",
    "from packages.c45 import *\n",
    "from packages.importer import *\n",
    "from packages.binaryTree import *\n",
    "\n",
    "path = 'datasets/iris_min.csv'\n",
    "problem = import_csv(path)\n",
    "data = problem.data\n",
    "attributes = problem.attributes\n",
    "classcolumn = problem.classcolumn\n",
    "classes = problem.classes\n",
    "\n",
    "tree = decisionTree(data, attributes, classes, classcolumn, BinaryTree(), threshold = 0.1)\n",
    "print(tree)"
   ]
  },
  {
   "cell_type": "markdown",
   "metadata": {},
   "source": [
    "Si es el primer atributo, entonces es el eje X, sino es Y"
   ]
  },
  {
   "cell_type": "code",
   "execution_count": 2,
   "metadata": {},
   "outputs": [
    {
     "name": "stdout",
     "output_type": "stream",
     "text": [
      "sepal.length\n",
      "sepal.width\n"
     ]
    },
    {
     "data": {
      "text/plain": [
       "(1.0, 0.4980392156862745, 0.054901960784313725, 1.0)"
      ]
     },
     "execution_count": 2,
     "metadata": {},
     "output_type": "execute_result"
    },
    {
     "name": "stderr",
     "output_type": "stream",
     "text": [
      "'c' argument looks like a single numeric RGB or RGBA sequence, which should be avoided as value-mapping will have precedence in case its length matches with 'x' & 'y'.  Please use a 2-D array with a single row if you really want to specify the same RGB or RGBA value for all points.\n"
     ]
    },
    {
     "data": {
      "text/plain": [
       "<matplotlib.collections.PathCollection at 0x1c848c63908>"
      ]
     },
     "execution_count": 2,
     "metadata": {},
     "output_type": "execute_result"
    },
    {
     "name": "stderr",
     "output_type": "stream",
     "text": [
      "'c' argument looks like a single numeric RGB or RGBA sequence, which should be avoided as value-mapping will have precedence in case its length matches with 'x' & 'y'.  Please use a 2-D array with a single row if you really want to specify the same RGB or RGBA value for all points.\n"
     ]
    },
    {
     "data": {
      "text/plain": [
       "<matplotlib.collections.PathCollection at 0x1c848c63a58>"
      ]
     },
     "execution_count": 2,
     "metadata": {},
     "output_type": "execute_result"
    },
    {
     "name": "stderr",
     "output_type": "stream",
     "text": [
      "'c' argument looks like a single numeric RGB or RGBA sequence, which should be avoided as value-mapping will have precedence in case its length matches with 'x' & 'y'.  Please use a 2-D array with a single row if you really want to specify the same RGB or RGBA value for all points.\n"
     ]
    },
    {
     "data": {
      "text/plain": [
       "<matplotlib.collections.PathCollection at 0x1c848c63da0>"
      ]
     },
     "execution_count": 2,
     "metadata": {},
     "output_type": "execute_result"
    },
    {
     "data": {
      "image/png": "[encoded data removed]",
      "text/plain": [
       "<Figure size 432x288 with 1 Axes>"
      ]
     },
     "metadata": {
      "needs_background": "light"
     },
     "output_type": "display_data"
    }
   ],
   "source": [
    "ejex = attributes[0]\n",
    "print(ejex)\n",
    "ejey = attributes[1]\n",
    "print(ejey)\n",
    "xmin = data[ejex].min()\n",
    "xmax = data[ejex].max()\n",
    "ymin = data[ejey].min()\n",
    "ymax = data[ejey].max()\n",
    "def recursivo(plt, tree, ejex, ejey, xmin, xmax, ymin, ymax):\n",
    "    left = tree.left\n",
    "    right = tree.right\n",
    "    if tree.cargo.type == 'decision':\n",
    "        attribute = tree.cargo.value\n",
    "        if attribute == ejex:\n",
    "            plt.vlines(x = tree.cargo.limit, ymin = ymin, ymax = ymax)\n",
    "            recursivo(plt, left, ejex, ejey, xmin, tree.cargo.limit, ymin, ymax)\n",
    "            recursivo(plt, right, ejex, ejey, tree.cargo.limit, xmax, ymin, ymax)\n",
    "        if attribute == ejey:\n",
    "            plt.hlines(y = tree.cargo.limit, xmin = xmin, xmax = xmax)\n",
    "            recursivo(plt, left, ejex, ejey, xmin, xmax, ymin, tree.cargo.limit)\n",
    "            recursivo(plt, right, ejex, ejey, xmin, ymax, tree.cargo.limit, ymax)\n",
    "\n",
    "recursivo(plt, tree, ejex, ejey, xmin, xmax, ymin, ymax)\n",
    "\n",
    "color = cm.get_cmap(name='tab20')\n",
    "color(0.1)\n",
    "i = 0.0\n",
    "for c in classes: \n",
    "    dataTemp = data.loc[data[classcolumn] == c]\n",
    "    x = dataTemp[attributes[0]]\n",
    "    y = dataTemp[attributes[1]]\n",
    "    plt.scatter(x, y, marker='o', c=color(i))\n",
    "    i= i+0.05\n",
    "plt.show()\n",
    "\n",
    "\n"
   ]
  },
  {
   "cell_type": "code",
   "execution_count": null,
   "metadata": {},
   "outputs": [],
   "source": []
  }
 ],
 "metadata": {
  "kernelspec": {
   "display_name": "Python 3",
   "language": "python",
   "name": "python3"
  },
  "language_info": {
   "codemirror_mode": {
    "name": "ipython",
    "version": 3
   },
   "file_extension": ".py",
   "mimetype": "text/x-python",
   "name": "python",
   "nbconvert_exporter": "python",
   "pygments_lexer": "ipython3",
   "version": "3.7.3"
  }
 },
 "nbformat": 4,
 "nbformat_minor": 2
}
