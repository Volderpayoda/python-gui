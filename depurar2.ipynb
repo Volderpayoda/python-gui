{
 "cells": [
  {
   "cell_type": "code",
   "execution_count": 1,
   "metadata": {},
   "outputs": [
    {
     "name": "stdout",
     "output_type": "stream",
     "text": [
      "nodeType: decision - value: sepal.length - limit: 5.5\n",
      "|-nodeType: decision - value: sepal.width - limit: 2.7\n",
      "  |-nodeType: decision - value: sepal.length - limit: 4.9\n",
      "    |-nodeType: decision - value: sepal.length - limit: 4.5\n",
      "      |-nodeType: leaf - value: Setosa - supportCount: 1 - confidence: 1/1\n",
      "      |-nodeType: decision - value: sepal.width - limit: 2.4\n",
      "        |-nodeType: leaf - value: Versicolor - supportCount: 1 - confidence: 1/1\n",
      "        |-nodeType: leaf - value: Virginica - supportCount: 1 - confidence: 1/1\n",
      "    |-nodeType: leaf - value: Versicolor - supportCount: 9 - confidence: 9/9\n",
      "  |-nodeType: leaf - value: Setosa - supportCount: 46 - confidence: 46/47\n",
      "|-nodeType: decision - value: sepal.width - limit: 3.6\n",
      "  |-nodeType: decision - value: sepal.length - limit: 6.2\n",
      "    |-nodeType: leaf - value: Versicolor - supportCount: 25 - confidence: 25/37\n",
      "    |-nodeType: decision - value: sepal.length - limit: 7.0\n",
      "      |-nodeType: leaf - value: Virginica - supportCount: 25 - confidence: 25/39\n",
      "      |-nodeType: leaf - value: Virginica - supportCount: 10 - confidence: 10/10\n",
      "  |-nodeType: decision - value: sepal.length - limit: 5.8\n",
      "    |-nodeType: leaf - value: Setosa - supportCount: 3 - confidence: 3/3\n",
      "    |-nodeType: leaf - value: Virginica - supportCount: 2 - confidence: 2/2\n"
     ]
    }
   ],
   "source": [
    "from IPython.core.interactiveshell import InteractiveShell\n",
    "InteractiveShell.ast_node_interactivity = \"all\"\n",
    "import numpy as np\n",
    "import pandas as pd\n",
    "%matplotlib inline\n",
    "from packages.c45 import *\n",
    "from packages.importer import *\n",
    "from packages.binaryTree import *\n",
    "from packages.plotter import *\n",
    "import math\n",
    "\n",
    "path = 'datasets/iris_min.csv'\n",
    "problem = import_csv(path)\n",
    "data = problem.data\n",
    "attributes = problem.attributes\n",
    "classcolumn = problem.classcolumn\n",
    "classes = problem.classes\n",
    "\n",
    "tree = decisionTree(data, attributes, classes, classcolumn, BinaryTree(), threshold = 0.1)\n",
    "print(tree)"
   ]
  },
  {
   "cell_type": "markdown",
   "metadata": {},
   "source": [
    "Si es el primer atributo, entonces es el eje X, sino es Y"
   ]
  },
  {
   "cell_type": "code",
   "execution_count": 2,
   "metadata": {},
   "outputs": [],
   "source": [
    "p0 = impurityEval1(data, classcolumn)\n",
    "p = impurityCalc(data, attributes, classcolumn)"
   ]
  },
  {
   "cell_type": "code",
   "execution_count": 4,
   "metadata": {},
   "outputs": [],
   "source": [
    "# Cálculo del gain: \n",
    "\n",
    "p['gain'] = p['impurity'].apply(lambda x: p0 - x)"
   ]
  },
  {
   "cell_type": "code",
   "execution_count": 5,
   "metadata": {},
   "outputs": [
    {
     "data": {
      "text/html": [
       "<div>\n",
       "<style scoped>\n",
       "    .dataframe tbody tr th:only-of-type {\n",
       "        vertical-align: middle;\n",
       "    }\n",
       "\n",
       "    .dataframe tbody tr th {\n",
       "        vertical-align: top;\n",
       "    }\n",
       "\n",
       "    .dataframe thead th {\n",
       "        text-align: right;\n",
       "    }\n",
       "</style>\n",
       "<table border=\"1\" class=\"dataframe\">\n",
       "  <thead>\n",
       "    <tr style=\"text-align: right;\">\n",
       "      <th></th>\n",
       "      <th>attribute</th>\n",
       "      <th>value</th>\n",
       "      <th>impurity</th>\n",
       "      <th>gain</th>\n",
       "    </tr>\n",
       "  </thead>\n",
       "  <tbody>\n",
       "    <tr>\n",
       "      <th>12</th>\n",
       "      <td>sepal.length</td>\n",
       "      <td>5.5</td>\n",
       "      <td>1.027730</td>\n",
       "      <td>0.557233</td>\n",
       "    </tr>\n",
       "    <tr>\n",
       "      <th>11</th>\n",
       "      <td>sepal.length</td>\n",
       "      <td>5.4</td>\n",
       "      <td>1.033839</td>\n",
       "      <td>0.551123</td>\n",
       "    </tr>\n",
       "    <tr>\n",
       "      <th>14</th>\n",
       "      <td>sepal.length</td>\n",
       "      <td>5.7</td>\n",
       "      <td>1.068922</td>\n",
       "      <td>0.516041</td>\n",
       "    </tr>\n",
       "    <tr>\n",
       "      <th>13</th>\n",
       "      <td>sepal.length</td>\n",
       "      <td>5.6</td>\n",
       "      <td>1.089198</td>\n",
       "      <td>0.495765</td>\n",
       "    </tr>\n",
       "    <tr>\n",
       "      <th>15</th>\n",
       "      <td>sepal.length</td>\n",
       "      <td>5.8</td>\n",
       "      <td>1.097573</td>\n",
       "      <td>0.487389</td>\n",
       "    </tr>\n",
       "  </tbody>\n",
       "</table>\n",
       "</div>"
      ],
      "text/plain": [
       "       attribute  value  impurity      gain\n",
       "12  sepal.length    5.5  1.027730  0.557233\n",
       "11  sepal.length    5.4  1.033839  0.551123\n",
       "14  sepal.length    5.7  1.068922  0.516041\n",
       "13  sepal.length    5.6  1.089198  0.495765\n",
       "15  sepal.length    5.8  1.097573  0.487389"
      ]
     },
     "execution_count": 5,
     "metadata": {},
     "output_type": "execute_result"
    }
   ],
   "source": [
    "# Cálculo del gain Ratio: \n",
    "\n",
    "p.head()\n"
   ]
  },
  {
   "cell_type": "code",
   "execution_count": 16,
   "metadata": {},
   "outputs": [
    {
     "data": {
      "text/plain": [
       "[0.1839994458940537,\n",
       " 0.244263243052791,\n",
       " 0.25853652567070085,\n",
       " 0.30769318650154914,\n",
       " 0.33008654281750327,\n",
       " 0.38449693130205087,\n",
       " 0.305089287045597,\n",
       " 0.3498881286860892,\n",
       " 0.4488857482829817,\n",
       " 0.481592423005271,\n",
       " 0.5005877352830224,\n",
       " 0.591933883808558,\n",
       " 0.5762983610929974,\n",
       " 0.502224645761356,\n",
       " 0.5163054032145803,\n",
       " 0.48895825625245604,\n",
       " 0.4679300238177699,\n",
       " 0.43538222441240976,\n",
       " 0.41476385803468074,\n",
       " 0.3936839822381525,\n",
       " 0.33048574935469016,\n",
       " 0.28596922584863566,\n",
       " 0.2502036849362456,\n",
       " 0.27090648165621345,\n",
       " 0.26316998529746666,\n",
       " 0.265472305640238,\n",
       " 0.26592773944795944,\n",
       " 0.3410563427505501,\n",
       " 0.33008654281750327,\n",
       " 0.29612996247238654,\n",
       " 0.28419155921890704,\n",
       " 0.27173210811829024,\n",
       " 0.25853652567070085,\n",
       " 0.1839994458940537,\n",
       " 0,\n",
       " 0.1839994458940537,\n",
       " 0.11891518299632772,\n",
       " 0.09868491195421898,\n",
       " 0.1513730749859667,\n",
       " 0.12616036558865068,\n",
       " 0.14339363171406608,\n",
       " 0.1742776281981024,\n",
       " 0.22151661562729374,\n",
       " 0.25955664697072606,\n",
       " 0.26279202537207974,\n",
       " 0.2688528300014509,\n",
       " 0.3053101381451702,\n",
       " 0.35129384185463597,\n",
       " 0.3246220455817783,\n",
       " 0.2510215617214959,\n",
       " 0.2401928886697709,\n",
       " 0.20083691758986738,\n",
       " 0.27173210811829024,\n",
       " 0.244263243052791,\n",
       " 0.22830961743127504,\n",
       " 0.20942036606497655,\n",
       " 0.1839994458940537,\n",
       " 0]"
      ]
     },
     "execution_count": 16,
     "metadata": {},
     "output_type": "execute_result"
    }
   ],
   "source": [
    "d = (data.shape)[0] #calcula la cantidad de filas de d\n",
    "aux = []\n",
    "i = 0\n",
    "\n",
    "while i < (p.shape)[0]:\n",
    "    #seleccion de elementos para partitionD\n",
    "    a = p.loc[i][0] #seleccion del atributo\n",
    "    v = p.loc[i][1] #seleccion del valor\n",
    "    g = p.loc[i][3] #seleccion de la ganancia de información\n",
    "    \n",
    "    #llamado a partitionD\n",
    "    d1,d2 = partitionD(data, a, v)\n",
    "    \n",
    "    #calculo de tamaño de particiones\n",
    "    shapeD1 = (d1.shape)[0]\n",
    "    shapeD2 = (d2.shape)[0]\n",
    "    \n",
    "    # Calcular la primera parte del denominador  \n",
    "    if shapeD1 == 0: \n",
    "        den1 = 0\n",
    "    else:\n",
    "        den1 = ((shapeD1)/d)*math.log((shapeD1/d),2)\n",
    "        \n",
    "    # Calcular la segunda parte del denominador\n",
    "    \n",
    "    if shapeD2 == 0:\n",
    "        den2 = 0\n",
    "    else:\n",
    "        den2 = ((shapeD2)/d)*math.log((shapeD2/d),2)\n",
    "        \n",
    "    #calcular el gainRatio\n",
    "    if g == 0:\n",
    "        gainRatio = 0\n",
    "    else:\n",
    "        gainRatio = g/(-(den1+den2))\n",
    "    \n",
    "    i +=1\n",
    "    aux.append(gainRatio)\n",
    "\n",
    "aux"
   ]
  },
  {
   "cell_type": "code",
   "execution_count": 14,
   "metadata": {},
   "outputs": [
    {
     "data": {
      "text/plain": [
       "150"
      ]
     },
     "execution_count": 14,
     "metadata": {},
     "output_type": "execute_result"
    }
   ],
   "source": [
    "(data.shape)[0]"
   ]
  },
  {
   "cell_type": "code",
   "execution_count": null,
   "metadata": {},
   "outputs": [],
   "source": []
  }
 ],
 "metadata": {
  "kernelspec": {
   "display_name": "Python 3",
   "language": "python",
   "name": "python3"
  },
  "language_info": {
   "codemirror_mode": {
    "name": "ipython",
    "version": 3
   },
   "file_extension": ".py",
   "mimetype": "text/x-python",
   "name": "python",
   "nbconvert_exporter": "python",
   "pygments_lexer": "ipython3",
   "version": "3.7.1"
  }
 },
 "nbformat": 4,
 "nbformat_minor": 2
}
