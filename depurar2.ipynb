{
 "cells": [
  {
   "cell_type": "code",
   "execution_count": 3,
   "metadata": {},
   "outputs": [
    {
     "name": "stdout",
     "output_type": "stream",
     "text": [
      "nodeType: decision - value: sepal.length - limit: 5.5\n",
      "|-nodeType: decision - value: sepal.width - limit: 2.7\n",
      "  |-nodeType: decision - value: sepal.length - limit: 4.9\n",
      "    |-nodeType: decision - value: sepal.length - limit: 4.5\n",
      "      |-nodeType: leaf - value: Setosa - supportCount: 1 - confidence: 1/1\n",
      "      |-nodeType: decision - value: sepal.width - limit: 2.4\n",
      "        |-nodeType: leaf - value: Versicolor - supportCount: 1 - confidence: 1/1\n",
      "        |-nodeType: leaf - value: Virginica - supportCount: 1 - confidence: 1/1\n",
      "    |-nodeType: leaf - value: Versicolor - supportCount: 9 - confidence: 9/9\n",
      "  |-nodeType: decision - value: sepal.length - limit: 5.3\n",
      "    |-nodeType: leaf - value: Setosa - supportCount: 39 - confidence: 39/39\n",
      "    |-nodeType: decision - value: sepal.width - limit: 3.0\n",
      "      |-nodeType: leaf - value: Versicolor - supportCount: 1 - confidence: 1/1\n",
      "      |-nodeType: leaf - value: Setosa - supportCount: 7 - confidence: 7/7\n",
      "|-nodeType: decision - value: sepal.width - limit: 3.6\n",
      "  |-nodeType: decision - value: sepal.length - limit: 6.2\n",
      "    |-nodeType: decision - value: sepal.length - limit: 5.7\n",
      "      |-nodeType: decision - value: sepal.width - limit: 2.8\n",
      "        |-nodeType: decision - value: sepal.width - limit: 2.5\n",
      "          |-nodeType: decision - value: sepal.length - limit: 5.6\n",
      "            |-nodeType: leaf - value: Versicolor - supportCount: 1 - confidence: 1/1\n",
      "            |-nodeType: leaf - value: Virginica - supportCount: 1 - confidence: 1/1\n",
      "          |-nodeType: decision - value: sepal.length - limit: 5.6\n",
      "            |-nodeType: decision - value: sepal.width - limit: 2.7\n",
      "              |-nodeType: leaf - value: Versicolor - supportCount: 1 - confidence: 1/1\n",
      "              |-nodeType: leaf - value: Virginica - supportCount: 1 - confidence: 1/1\n",
      "            |-nodeType: leaf - value: Versicolor - supportCount: 3 - confidence: 3/3\n",
      "        |-nodeType: leaf - value: Versicolor - supportCount: 5 - confidence: 5/5\n",
      "      |-nodeType: decision - value: sepal.width - limit: 2.9\n",
      "        |-nodeType: decision - value: sepal.width - limit: 2.8\n",
      "          |-nodeType: decision - value: sepal.length - limit: 5.8\n",
      "            |-nodeType: decision - value: sepal.width - limit: 2.6\n",
      "              |-nodeType: leaf - value: Versicolor - supportCount: 1 - confidence: 1/1\n",
      "              |-nodeType: decision - value: sepal.width - limit: 2.7\n",
      "                |-nodeType: leaf - value: Versicolor - supportCount: 2 - confidence: 2/4\n",
      "                |-nodeType: leaf - value: Virginica - supportCount: 1 - confidence: 1/1\n",
      "            |-nodeType: decision - value: sepal.width - limit: 2.6\n",
      "              |-nodeType: decision - value: sepal.length - limit: 6.1\n",
      "                |-nodeType: decision - value: sepal.length - limit: 6.0\n",
      "                  |-nodeType: leaf - value: Versicolor - supportCount: 1 - confidence: 1/2\n",
      "                  |-nodeType: leaf - value: Virginica - supportCount: 1 - confidence: 1/1\n",
      "                |-nodeType: leaf - value: Versicolor - supportCount: 1 - confidence: 1/1\n",
      "              |-nodeType: decision - value: sepal.length - limit: 6.1\n",
      "                |-nodeType: leaf - value: Versicolor - supportCount: 3 - confidence: 3/3\n",
      "                |-nodeType: leaf - value: Virginica - supportCount: 1 - confidence: 1/1\n",
      "          |-nodeType: leaf - value: Versicolor - supportCount: 3 - confidence: 3/3\n",
      "        |-nodeType: decision - value: sepal.length - limit: 6.1\n",
      "          |-nodeType: decision - value: sepal.width - limit: 3.0\n",
      "            |-nodeType: decision - value: sepal.length - limit: 5.9\n",
      "              |-nodeType: leaf - value: Versicolor - supportCount: 1 - confidence: 1/2\n",
      "              |-nodeType: decision - value: sepal.length - limit: 6.0\n",
      "                |-nodeType: leaf - value: Virginica - supportCount: 1 - confidence: 1/1\n",
      "                |-nodeType: leaf - value: Versicolor - supportCount: 1 - confidence: 1/2\n",
      "            |-nodeType: leaf - value: Versicolor - supportCount: 2 - confidence: 2/2\n",
      "          |-nodeType: leaf - value: Virginica - supportCount: 1 - confidence: 1/1\n",
      "    |-nodeType: decision - value: sepal.length - limit: 7.0\n",
      "      |-nodeType: decision - value: sepal.length - limit: 6.9\n",
      "        |-nodeType: decision - value: sepal.width - limit: 2.3\n",
      "          |-nodeType: leaf - value: Versicolor - supportCount: 1 - confidence: 1/1\n",
      "          |-nodeType: decision - value: sepal.length - limit: 6.5\n",
      "            |-nodeType: decision - value: sepal.width - limit: 2.5\n",
      "              |-nodeType: leaf - value: Versicolor - supportCount: 1 - confidence: 1/2\n",
      "              |-nodeType: decision - value: sepal.width - limit: 2.7\n",
      "                |-nodeType: leaf - value: Virginica - supportCount: 2 - confidence: 2/2\n",
      "                |-nodeType: decision - value: sepal.width - limit: 3.3\n",
      "                  |-nodeType: decision - value: sepal.width - limit: 3.1\n",
      "                    |-nodeType: decision - value: sepal.width - limit: 2.9\n",
      "                      |-nodeType: decision - value: sepal.length - limit: 6.4\n",
      "                        |-nodeType: decision - value: sepal.width - limit: 2.8\n",
      "                          |-nodeType: leaf - value: Virginica - supportCount: 3 - confidence: 3/3\n",
      "                          |-nodeType: decision - value: sepal.length - limit: 6.3\n",
      "                            |-nodeType: leaf - value: Virginica - supportCount: 1 - confidence: 1/1\n",
      "                            |-nodeType: leaf - value: Versicolor - supportCount: 1 - confidence: 1/1\n",
      "                        |-nodeType: leaf - value: Versicolor - supportCount: 1 - confidence: 1/1\n",
      "                      |-nodeType: leaf - value: Virginica - supportCount: 4 - confidence: 4/4\n",
      "                    |-nodeType: decision - value: sepal.length - limit: 6.4\n",
      "                      |-nodeType: leaf - value: Versicolor - supportCount: 2 - confidence: 2/4\n",
      "                      |-nodeType: leaf - value: Virginica - supportCount: 1 - confidence: 1/1\n",
      "                  |-nodeType: leaf - value: Virginica - supportCount: 1 - confidence: 1/1\n",
      "            |-nodeType: decision - value: sepal.width - limit: 3.1\n",
      "              |-nodeType: decision - value: sepal.length - limit: 6.6\n",
      "                |-nodeType: leaf - value: Versicolor - supportCount: 2 - confidence: 2/2\n",
      "                |-nodeType: decision - value: sepal.width - limit: 2.5\n",
      "                  |-nodeType: leaf - value: Virginica - supportCount: 1 - confidence: 1/1\n",
      "                  |-nodeType: decision - value: sepal.width - limit: 2.8\n",
      "                    |-nodeType: leaf - value: Versicolor - supportCount: 1 - confidence: 1/1\n",
      "                    |-nodeType: decision - value: sepal.length - limit: 6.7\n",
      "                      |-nodeType: decision - value: sepal.width - limit: 3.0\n",
      "                        |-nodeType: leaf - value: Versicolor - supportCount: 1 - confidence: 1/2\n",
      "                        |-nodeType: leaf - value: Versicolor - supportCount: 2 - confidence: 2/3\n",
      "                      |-nodeType: decision - value: sepal.length - limit: 6.8\n",
      "                        |-nodeType: leaf - value: Virginica - supportCount: 1 - confidence: 1/1\n",
      "                        |-nodeType: leaf - value: Virginica - supportCount: 2 - confidence: 2/3\n",
      "              |-nodeType: leaf - value: Virginica - supportCount: 4 - confidence: 4/4\n",
      "        |-nodeType: leaf - value: Versicolor - supportCount: 1 - confidence: 1/1\n",
      "      |-nodeType: leaf - value: Virginica - supportCount: 10 - confidence: 10/10\n",
      "  |-nodeType: decision - value: sepal.length - limit: 5.8\n",
      "    |-nodeType: leaf - value: Setosa - supportCount: 3 - confidence: 3/3\n",
      "    |-nodeType: leaf - value: Virginica - supportCount: 2 - confidence: 2/2\n"
     ]
    }
   ],
   "source": [
    "from IPython.core.interactiveshell import InteractiveShell\n",
    "InteractiveShell.ast_node_interactivity = \"all\"\n",
    "import numpy as np\n",
    "import pandas as pd\n",
    "%matplotlib inline\n",
    "from packages.c45 import *\n",
    "from packages.importer import *\n",
    "from packages.binaryTree import *\n",
    "from packages.plotter import *\n",
    "\n",
    "path = 'datasets/iris_min.csv'\n",
    "problem = import_csv(path)\n",
    "data = problem.data\n",
    "attributes = problem.attributes\n",
    "classcolumn = problem.classcolumn\n",
    "classes = problem.classes\n",
    "\n",
    "tree = decisionTree(data, attributes, classes, classcolumn, BinaryTree(), threshold = 0.01)\n",
    "print(tree)"
   ]
  },
  {
   "cell_type": "markdown",
   "metadata": {},
   "source": [
    "Si es el primer atributo, entonces es el eje X, sino es Y"
   ]
  },
  {
   "cell_type": "code",
   "execution_count": 4,
   "metadata": {},
   "outputs": [
    {
     "data": {
      "image/png": "[encoded data removed]",
      "text/plain": [
       "<Figure size 432x288 with 1 Axes>"
      ]
     },
     "metadata": {
      "needs_background": "light"
     },
     "output_type": "display_data"
    }
   ],
   "source": [
    "plt = plotSolution(problem, tree)"
   ]
  },
  {
   "cell_type": "code",
   "execution_count": null,
   "metadata": {},
   "outputs": [],
   "source": []
  }
 ],
 "metadata": {
  "kernelspec": {
   "display_name": "Python 3",
   "language": "python",
   "name": "python3"
  },
  "language_info": {
   "codemirror_mode": {
    "name": "ipython",
    "version": 3
   },
   "file_extension": ".py",
   "mimetype": "text/x-python",
   "name": "python",
   "nbconvert_exporter": "python",
   "pygments_lexer": "ipython3",
   "version": "3.7.1"
  }
 },
 "nbformat": 4,
 "nbformat_minor": 2
}
