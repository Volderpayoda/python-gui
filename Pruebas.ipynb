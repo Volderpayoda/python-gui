{
 "cells": [
  {
   "cell_type": "markdown",
   "metadata": {},
   "source": [
    "# Entorno de pruebas automatizadas"
   ]
  },
  {
   "cell_type": "markdown",
   "metadata": {},
   "source": [
    "## Configuración del entorno"
   ]
  },
  {
   "cell_type": "code",
   "execution_count": 9,
   "metadata": {},
   "outputs": [],
   "source": [
    "from IPython.core.interactiveshell import InteractiveShell\n",
    "InteractiveShell.ast_node_interactivity = \"all\"\n",
    "from packages.importer import *\n",
    "from packages.c45 import *\n",
    "from packages.binaryTree import *\n",
    "import packages.classifier as cl\n",
    "import statistics as stats\n",
    "import time"
   ]
  },
  {
   "cell_type": "markdown",
   "metadata": {},
   "source": [
    "## Importar datos"
   ]
  },
  {
   "cell_type": "code",
   "execution_count": 10,
   "metadata": {},
   "outputs": [],
   "source": [
    "def import_problem(path, sep, lineTerminator, testPer):\n",
    "    problem = import_csv(path, sep, lineTerminator, testPer)\n",
    "    return problem"
   ]
  },
  {
   "cell_type": "markdown",
   "metadata": {},
   "source": [
    "## Construir árbol de decisión"
   ]
  },
  {
   "cell_type": "code",
   "execution_count": 11,
   "metadata": {},
   "outputs": [],
   "source": [
    "def build_tree(problem, threshold, gainFunc):    \n",
    "    data = problem.data\n",
    "    testData = problem.testData\n",
    "    attributes = problem.attributes\n",
    "    classes = problem.classes\n",
    "    classcolumn = problem.classcolumn\n",
    "    tree = decisionTree(data, attributes, classes, classcolumn, BinaryTree(), threshold = threshold, gainFunc = gainFunc)\n",
    "    return tree"
   ]
  },
  {
   "cell_type": "markdown",
   "metadata": {},
   "source": [
    "## Calcular precisión"
   ]
  },
  {
   "cell_type": "code",
   "execution_count": 12,
   "metadata": {},
   "outputs": [],
   "source": [
    "def calc_accuracy(tree, attributes, testData):\n",
    "    classifier = cl.Classifier(attributes)\n",
    "    accuracy = classifier.classifyDataFrame(tree, testData)\n",
    "    return accuracy"
   ]
  },
  {
   "cell_type": "markdown",
   "metadata": {},
   "source": [
    "## Definición de parámetros para pruebas"
   ]
  },
  {
   "cell_type": "code",
   "execution_count": 5,
   "metadata": {},
   "outputs": [],
   "source": [
    "path = 'datasets/test_2.csv'\n",
    "sep = ','\n",
    "lineTerminator = '\\n'\n",
    "testPer = 0.1\n",
    "threshold = 0.1\n",
    "gainFunc = 'gain'"
   ]
  },
  {
   "cell_type": "markdown",
   "metadata": {},
   "source": [
    "## Ejecución de las pruebas"
   ]
  },
  {
   "cell_type": "code",
   "execution_count": 14,
   "metadata": {
    "scrolled": true
   },
   "outputs": [
    {
     "name": "stdout",
     "output_type": "stream",
     "text": [
      "Corrida 1 | Precisión: 0.95\n",
      "Corrida 2 | Precisión: 0.98\n",
      "Corrida 3 | Precisión: 0.96\n",
      "Corrida 4 | Precisión: 0.96\n",
      "Corrida 5 | Precisión: 0.91\n",
      "Corrida 6 | Precisión: 0.96\n",
      "Corrida 7 | Precisión: 0.9\n",
      "Corrida 8 | Precisión: 0.98\n",
      "Corrida 9 | Precisión: 0.95\n",
      "Corrida 10 | Precisión: 0.93\n",
      "Corrida 11 | Precisión: 0.99\n",
      "Corrida 12 | Precisión: 0.98\n",
      "Corrida 13 | Precisión: 0.97\n",
      "Corrida 14 | Precisión: 0.97\n",
      "Corrida 15 | Precisión: 0.96\n",
      "Corrida 16 | Precisión: 0.96\n",
      "Corrida 17 | Precisión: 0.98\n",
      "Corrida 18 | Precisión: 0.98\n",
      "Corrida 19 | Precisión: 0.98\n",
      "Corrida 20 | Precisión: 0.99\n",
      "Corrida 21 | Precisión: 0.99\n",
      "Corrida 22 | Precisión: 0.98\n",
      "Corrida 23 | Precisión: 0.95\n",
      "Corrida 24 | Precisión: 0.96\n",
      "Corrida 25 | Precisión: 0.94\n",
      "Corrida 26 | Precisión: 0.98\n",
      "Corrida 27 | Precisión: 0.97\n",
      "Corrida 28 | Precisión: 0.98\n",
      "Corrida 29 | Precisión: 0.97\n",
      "Corrida 30 | Precisión: 0.98\n",
      "Corrida 31 | Precisión: 0.98\n",
      "Corrida 32 | Precisión: 0.94\n",
      "Corrida 33 | Precisión: 0.96\n",
      "Corrida 34 | Precisión: 0.94\n",
      "Corrida 35 | Precisión: 0.94\n",
      "Corrida 36 | Precisión: 0.96\n",
      "Corrida 37 | Precisión: 0.96\n",
      "Corrida 38 | Precisión: 0.98\n",
      "Corrida 39 | Precisión: 0.95\n",
      "Corrida 40 | Precisión: 0.99\n",
      "Corrida 41 | Precisión: 0.93\n",
      "Corrida 42 | Precisión: 0.98\n",
      "Corrida 43 | Precisión: 0.97\n",
      "Corrida 44 | Precisión: 0.96\n",
      "Corrida 45 | Precisión: 0.97\n",
      "Corrida 46 | Precisión: 0.97\n",
      "Corrida 47 | Precisión: 0.96\n",
      "Corrida 48 | Precisión: 0.96\n",
      "Corrida 49 | Precisión: 0.95\n",
      "Corrida 50 | Precisión: 0.99\n",
      "Corrida 51 | Precisión: 0.96\n",
      "Corrida 52 | Precisión: 0.96\n",
      "Corrida 53 | Precisión: 0.99\n",
      "Corrida 54 | Precisión: 0.97\n",
      "Corrida 55 | Precisión: 0.95\n",
      "Corrida 56 | Precisión: 0.99\n",
      "Corrida 57 | Precisión: 0.96\n",
      "Corrida 58 | Precisión: 0.98\n",
      "Corrida 59 | Precisión: 0.99\n",
      "Corrida 60 | Precisión: 0.99\n",
      "Corrida 61 | Precisión: 0.96\n",
      "Corrida 62 | Precisión: 0.98\n",
      "Corrida 63 | Precisión: 0.98\n",
      "Corrida 64 | Precisión: 0.98\n",
      "Corrida 65 | Precisión: 0.97\n",
      "Corrida 66 | Precisión: 0.97\n",
      "Corrida 67 | Precisión: 0.97\n",
      "Corrida 68 | Precisión: 0.95\n",
      "Corrida 69 | Precisión: 0.98\n",
      "Corrida 70 | Precisión: 0.96\n",
      "Corrida 71 | Precisión: 0.99\n",
      "Corrida 72 | Precisión: 0.94\n",
      "Corrida 73 | Precisión: 0.96\n",
      "Corrida 74 | Precisión: 0.97\n",
      "Corrida 75 | Precisión: 0.96\n",
      "Corrida 76 | Precisión: 0.99\n",
      "Corrida 77 | Precisión: 0.97\n",
      "Corrida 78 | Precisión: 0.96\n",
      "Corrida 79 | Precisión: 0.96\n",
      "Corrida 80 | Precisión: 0.99\n",
      "Corrida 81 | Precisión: 0.98\n",
      "Corrida 82 | Precisión: 0.99\n",
      "Corrida 83 | Precisión: 0.96\n",
      "Corrida 84 | Precisión: 0.95\n",
      "Corrida 85 | Precisión: 0.99\n",
      "Corrida 86 | Precisión: 0.96\n",
      "Corrida 87 | Precisión: 0.98\n",
      "Corrida 88 | Precisión: 0.95\n",
      "Corrida 89 | Precisión: 0.97\n",
      "Corrida 90 | Precisión: 0.97\n",
      "Corrida 91 | Precisión: 0.97\n",
      "Corrida 92 | Precisión: 0.97\n",
      "Corrida 93 | Precisión: 0.97\n",
      "Corrida 94 | Precisión: 0.97\n",
      "Corrida 95 | Precisión: 0.98\n",
      "Corrida 96 | Precisión: 0.96\n",
      "Corrida 97 | Precisión: 0.96\n",
      "Corrida 98 | Precisión: 0.96\n",
      "Corrida 99 | Precisión: 0.96\n",
      "Corrida 100 | Precisión: 0.94\n",
      "Resultados:  [0.95, 0.98, 0.96, 0.96, 0.91, 0.96, 0.9, 0.98, 0.95, 0.93, 0.99, 0.98, 0.97, 0.97, 0.96, 0.96, 0.98, 0.98, 0.98, 0.99, 0.99, 0.98, 0.95, 0.96, 0.94, 0.98, 0.97, 0.98, 0.97, 0.98, 0.98, 0.94, 0.96, 0.94, 0.94, 0.96, 0.96, 0.98, 0.95, 0.99, 0.93, 0.98, 0.97, 0.96, 0.97, 0.97, 0.96, 0.96, 0.95, 0.99, 0.96, 0.96, 0.99, 0.97, 0.95, 0.99, 0.96, 0.98, 0.99, 0.99, 0.96, 0.98, 0.98, 0.98, 0.97, 0.97, 0.97, 0.95, 0.98, 0.96, 0.99, 0.94, 0.96, 0.97, 0.96, 0.99, 0.97, 0.96, 0.96, 0.99, 0.98, 0.99, 0.96, 0.95, 0.99, 0.96, 0.98, 0.95, 0.97, 0.97, 0.97, 0.97, 0.97, 0.97, 0.98, 0.96, 0.96, 0.96, 0.96, 0.94]\n",
      "Máximo: 0.99\n",
      "Mínimo: 0.9\n",
      "Promedio: 0.967\n",
      "Desvío estándar: 0.017\n",
      "Tiempo de ejecución:  1576.53 s\n"
     ]
    }
   ],
   "source": [
    "accuracy_array = []\n",
    "start = time.time()\n",
    "for i in range(100):\n",
    "    problem = import_problem(path, sep, lineTerminator, testPer)\n",
    "    tree = build_tree(problem, threshold, gainFunc)\n",
    "    accuracy = calc_accuracy(tree, problem.attributes, problem.testData)\n",
    "    accuracy_array.append(accuracy)\n",
    "    print('Corrida ' + str(i + 1) + ' | Precisión: ' + str(accuracy))\n",
    "end = time.time()\n",
    "totalTime = end - start\n",
    "maxAcc = max(accuracy_array)\n",
    "minAcc = min(accuracy_array)\n",
    "meanAcc = stats.mean(accuracy_array)\n",
    "stDevAcc = stats.pstdev(accuracy_array)\n",
    "print('Resultados: ', accuracy_array)\n",
    "print('Máximo:', round(maxAcc, 2))\n",
    "print('Mínimo:', round(minAcc, 2))\n",
    "print('Promedio:', round(meanAcc, 3))\n",
    "print('Desvío estándar:', round(stDevAcc, 3))\n",
    "\n",
    "print('Tiempo de ejecución: ', round(totalTime, 2), 's')"
   ]
  },
  {
   "cell_type": "code",
   "execution_count": null,
   "metadata": {},
   "outputs": [],
   "source": []
  }
 ],
 "metadata": {
  "kernelspec": {
   "display_name": "Python 3",
   "language": "python",
   "name": "python3"
  },
  "language_info": {
   "codemirror_mode": {
    "name": "ipython",
    "version": 3
   },
   "file_extension": ".py",
   "mimetype": "text/x-python",
   "name": "python",
   "nbconvert_exporter": "python",
   "pygments_lexer": "ipython3",
   "version": "3.7.3"
  }
 },
 "nbformat": 4,
 "nbformat_minor": 2
}
