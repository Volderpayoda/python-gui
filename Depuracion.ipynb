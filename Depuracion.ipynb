{
 "cells": [
  {
   "cell_type": "code",
   "execution_count": null,
   "metadata": {},
   "outputs": [],
   "source": [
    "from IPython.core.interactiveshell import InteractiveShell\n",
    "InteractiveShell.ast_node_interactivity = \"all\"\n",
    "import numpy as np\n",
    "import pandas as pd\n",
    "\n",
    "from packages.c45 import *\n",
    "\n",
    "path = 'datasets/iris_color.csv'"
   ]
  },
  {
   "cell_type": "code",
   "execution_count": null,
   "metadata": {
    "scrolled": false
   },
   "outputs": [],
   "source": [
    "# Obtener el conjunto de datos\n",
    "data = pd.read_csv(filepath_or_buffer = path, sep = ',')\n",
    "#data.sort_values(by = 'sepal.width')\n",
    "data.plot.scatter(x = 0, y = 1, c = 'variety', colormap = 'viridis')"
   ]
  },
  {
   "cell_type": "code",
   "execution_count": null,
   "metadata": {},
   "outputs": [],
   "source": [
    "# Obtener el conjunto de atributos\n",
    "attributes = data.columns\n",
    "attributes"
   ]
  },
  {
   "cell_type": "code",
   "execution_count": null,
   "metadata": {},
   "outputs": [],
   "source": [
    "# Obtener el conjunto de clases\n",
    "length = attributes.size - 1\n",
    "classcolumn = attributes[length]\n",
    "classes = data[attributes[length]].unique()\n",
    "\n",
    "# Eliminar la columna de clase de la lista de atributos\n",
    "attributes = attributes.drop(labels = [attributes[length]])"
   ]
  },
  {
   "cell_type": "code",
   "execution_count": null,
   "metadata": {},
   "outputs": [],
   "source": []
  }
 ],
 "metadata": {
  "kernelspec": {
   "display_name": "Python 3",
   "language": "python",
   "name": "python3"
  },
  "language_info": {
   "codemirror_mode": {
    "name": "ipython",
    "version": 3
   },
   "file_extension": ".py",
   "mimetype": "text/x-python",
   "name": "python",
   "nbconvert_exporter": "python",
   "pygments_lexer": "ipython3",
   "version": "3.7.1"
  }
 },
 "nbformat": 4,
 "nbformat_minor": 2
}
