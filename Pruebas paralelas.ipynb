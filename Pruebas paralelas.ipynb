{
 "cells": [
  {
   "cell_type": "markdown",
   "metadata": {},
   "source": [
    "# Entorno de pruebas automatizadas"
   ]
  },
  {
   "cell_type": "markdown",
   "metadata": {},
   "source": [
    "## Configuración del entorno"
   ]
  },
  {
   "cell_type": "code",
   "execution_count": 1,
   "metadata": {},
   "outputs": [],
   "source": [
    "from IPython.core.interactiveshell import InteractiveShell\n",
    "InteractiveShell.ast_node_interactivity = \"all\"\n",
    "from packages.importer import *\n",
    "from packages.c45 import *\n",
    "from packages.binaryTree import *\n",
    "import packages.classifier as cl\n",
    "import statistics as stats\n",
    "import time"
   ]
  },
  {
   "cell_type": "markdown",
   "metadata": {},
   "source": [
    "## Importar datos"
   ]
  },
  {
   "cell_type": "code",
   "execution_count": 2,
   "metadata": {},
   "outputs": [],
   "source": [
    "def import_problem(path, sep, lineTerminator, testPer):\n",
    "    problem = import_csv(path, sep, lineTerminator, testPer)\n",
    "    return problem"
   ]
  },
  {
   "cell_type": "markdown",
   "metadata": {},
   "source": [
    "## Construir árbol de decisión"
   ]
  },
  {
   "cell_type": "code",
   "execution_count": 3,
   "metadata": {},
   "outputs": [],
   "source": [
    "def build_tree(problem, threshold, gainFunc):    \n",
    "    data = problem.data\n",
    "    testData = problem.testData\n",
    "    attributes = problem.attributes\n",
    "    classes = problem.classes\n",
    "    classcolumn = problem.classcolumn\n",
    "    tree = decisionTree(data, attributes, classes, classcolumn, BinaryTree(), threshold = threshold, gainFunc = gainFunc)\n",
    "    return tree"
   ]
  },
  {
   "cell_type": "markdown",
   "metadata": {},
   "source": [
    "## Calcular precisión"
   ]
  },
  {
   "cell_type": "code",
   "execution_count": 4,
   "metadata": {},
   "outputs": [],
   "source": [
    "def calc_accuracy(tree, attributes, testData):\n",
    "    classifier = cl.Classifier(attributes)\n",
    "    accuracy = classifier.classifyDataFrame(tree, testData)\n",
    "    return accuracy"
   ]
  },
  {
   "cell_type": "markdown",
   "metadata": {},
   "source": [
    "## Ejecutar pruebas"
   ]
  },
  {
   "cell_type": "code",
   "execution_count": 7,
   "metadata": {
    "scrolled": true
   },
   "outputs": [],
   "source": [
    "def test_exe(path, sep, lineTerminator, testPer, threshold, gainFunc, n):\n",
    "    accuracy_array = []\n",
    "    start = time.time()\n",
    "    for i in range(n):\n",
    "        problem = import_problem(path, sep, lineTerminator, testPer)\n",
    "        tree = build_tree(problem, threshold, gainFunc)\n",
    "        accuracy = calc_accuracy(tree, problem.attributes, problem.testData)\n",
    "        accuracy_array.append(accuracy)\n",
    "        print('Corrida ' + str(i + 1) + ' | Precisión: ' + str(accuracy))\n",
    "    end = time.time()\n",
    "    totalTime = end - start\n",
    "    maxAcc = max(accuracy_array)\n",
    "    minAcc = min(accuracy_array)\n",
    "    meanAcc = stats.mean(accuracy_array)\n",
    "    stDevAcc = stats.pstdev(accuracy_array)\n",
    "    dic = {\n",
    "        'results': accuracy_array,\n",
    "        'max': maxAcc,\n",
    "        'min': minAcc,\n",
    "        'mean': meanAcc,\n",
    "        'stDev': stDevAcc,\n",
    "        'time': totalTime\n",
    "    }\n",
    "    return dic"
   ]
  },
  {
   "cell_type": "markdown",
   "metadata": {},
   "source": [
    "## Ejecuciones paralelas"
   ]
  },
  {
   "cell_type": "markdown",
   "metadata": {},
   "source": [
    "### Prueba 1"
   ]
  },
  {
   "cell_type": "code",
   "execution_count": 11,
   "metadata": {},
   "outputs": [
    {
     "name": "stdout",
     "output_type": "stream",
     "text": [
      "Corrida 1 | Precisión: 0.94\n",
      "Corrida 2 | Precisión: 0.98\n",
      "Corrida 3 | Precisión: 0.97\n",
      "Corrida 4 | Precisión: 0.99\n",
      "Corrida 5 | Precisión: 0.96\n",
      "results :  [0.94, 0.98, 0.97, 0.99, 0.96]\n",
      "max :  0.99\n",
      "min :  0.94\n",
      "mean :  0.968\n",
      "stDev :  0.017204650534085267\n",
      "time :  79.98787903785706\n"
     ]
    }
   ],
   "source": [
    "path = 'datasets/test_2.csv'\n",
    "sep = ','\n",
    "lineTerminator = '\\n'\n",
    "testPer = 0.1\n",
    "threshold = 0.1\n",
    "gainFunc = 'gain'\n",
    "n = 5\n",
    "dic = test_exe(path, sep, lineTerminator, testPer, threshold, gainFunc, n)\n",
    "for key, value in dic.items():\n",
    "    print(key, ': ', value)"
   ]
  },
  {
   "cell_type": "code",
   "execution_count": null,
   "metadata": {},
   "outputs": [],
   "source": []
  }
 ],
 "metadata": {
  "kernelspec": {
   "display_name": "Python 3",
   "language": "python",
   "name": "python3"
  },
  "language_info": {
   "codemirror_mode": {
    "name": "ipython",
    "version": 3
   },
   "file_extension": ".py",
   "mimetype": "text/x-python",
   "name": "python",
   "nbconvert_exporter": "python",
   "pygments_lexer": "ipython3",
   "version": "3.7.3"
  }
 },
 "nbformat": 4,
 "nbformat_minor": 2
}
