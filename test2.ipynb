{
 "cells": [
  {
   "cell_type": "code",
   "execution_count": 1,
   "metadata": {},
   "outputs": [
    {
     "name": "stdout",
     "output_type": "stream",
     "text": [
      "nodeType: decision - value: ancho - limit: 39.85\n",
      "|-nodeType: leaf - value: Clase 1 - supportCount: 235 - confidence: 235/239\n",
      "|-nodeType: decision - value: ancho - limit: 59.56\n",
      "  |-nodeType: leaf - value: Clase 2 - supportCount: 238 - confidence: 238/248\n",
      "  |-nodeType: decision - value: ancho - limit: 63.6\n",
      "    |-nodeType: decision - value: alto - limit: 31.12\n",
      "      |-nodeType: decision - value: alto - limit: 20.96\n",
      "        |-nodeType: leaf - value: Clase 2 - supportCount: 1 - confidence: 1/1\n",
      "        |-nodeType: leaf - value: Clase 3 - supportCount: 10 - confidence: 10/10\n",
      "      |-nodeType: decision - value: alto - limit: 35.9\n",
      "        |-nodeType: decision - value: alto - limit: 32.51\n",
      "          |-nodeType: leaf - value: Clase 2 - supportCount: 2 - confidence: 2/2\n",
      "          |-nodeType: decision - value: alto - limit: 34.93\n",
      "            |-nodeType: leaf - value: Clase 3 - supportCount: 1 - confidence: 1/1\n",
      "            |-nodeType: leaf - value: Clase 2 - supportCount: 2 - confidence: 2/2\n",
      "        |-nodeType: decision - value: alto - limit: 36.64\n",
      "          |-nodeType: leaf - value: Clase 3 - supportCount: 2 - confidence: 2/2\n",
      "          |-nodeType: decision - value: alto - limit: 37.85\n",
      "            |-nodeType: leaf - value: Clase 2 - supportCount: 1 - confidence: 1/1\n",
      "            |-nodeType: leaf - value: Clase 3 - supportCount: 2 - confidence: 2/2\n",
      "    |-nodeType: leaf - value: Clase 3 - supportCount: 192 - confidence: 192/192\n"
     ]
    }
   ],
   "source": [
    "from IPython.core.interactiveshell import InteractiveShell\n",
    "InteractiveShell.ast_node_interactivity = \"all\"\n",
    "import numpy as np\n",
    "import pandas as pd\n",
    "%matplotlib inline\n",
    "from packages.c45 import *\n",
    "from packages.importer import *\n",
    "from packages.binaryTree import *\n",
    "from packages.plotter import *\n",
    "import packages.classifier as cl\n",
    "import math\n",
    "\n",
    "path = 'datasets/test_2.csv'\n",
    "problem = import_csv(path)\n",
    "data = problem.data\n",
    "trainData = problem.trainData\n",
    "attributes = problem.attributes\n",
    "classcolumn = problem.classcolumn\n",
    "classes = problem.classes\n",
    "\n",
    "tree = decisionTree(data, attributes, classes, classcolumn, BinaryTree(), threshold = 0.1, gainFunc = 'gain')\n",
    "print(tree)"
   ]
  },
  {
   "cell_type": "markdown",
   "metadata": {},
   "source": [
    "Si es el primer atributo, entonces es el eje X, sino es Y"
   ]
  },
  {
   "cell_type": "code",
   "execution_count": 2,
   "metadata": {},
   "outputs": [
    {
     "data": {
      "text/plain": [
       "700"
      ]
     },
     "execution_count": 2,
     "metadata": {},
     "output_type": "execute_result"
    }
   ],
   "source": [
    "data.shape[0]"
   ]
  },
  {
   "cell_type": "code",
   "execution_count": 3,
   "metadata": {},
   "outputs": [
    {
     "data": {
      "text/plain": [
       "300"
      ]
     },
     "execution_count": 3,
     "metadata": {},
     "output_type": "execute_result"
    }
   ],
   "source": [
    "trainData.shape[0]"
   ]
  },
  {
   "cell_type": "code",
   "execution_count": 4,
   "metadata": {},
   "outputs": [
    {
     "data": {
      "text/plain": [
       "0.9666666666666667"
      ]
     },
     "execution_count": 4,
     "metadata": {},
     "output_type": "execute_result"
    }
   ],
   "source": [
    "classifier = cl.Classifier(attributes)\n",
    "acc = classifier.classifyDataFrame(tree, trainData)\n",
    "acc"
   ]
  },
  {
   "cell_type": "code",
   "execution_count": 5,
   "metadata": {},
   "outputs": [
    {
     "data": {
      "text/plain": [
       "ancho      30.82\n",
       "alto       43.33\n",
       "clase    Clase 1\n",
       "Name: 4, dtype: object"
      ]
     },
     "execution_count": 5,
     "metadata": {},
     "output_type": "execute_result"
    }
   ],
   "source": [
    "data.iloc[1]"
   ]
  },
  {
   "cell_type": "code",
   "execution_count": 6,
   "metadata": {},
   "outputs": [
    {
     "data": {
      "text/html": [
       "<div>\n",
       "<style scoped>\n",
       "    .dataframe tbody tr th:only-of-type {\n",
       "        vertical-align: middle;\n",
       "    }\n",
       "\n",
       "    .dataframe tbody tr th {\n",
       "        vertical-align: top;\n",
       "    }\n",
       "\n",
       "    .dataframe thead th {\n",
       "        text-align: right;\n",
       "    }\n",
       "</style>\n",
       "<table border=\"1\" class=\"dataframe\">\n",
       "  <thead>\n",
       "    <tr style=\"text-align: right;\">\n",
       "      <th></th>\n",
       "      <th>ancho</th>\n",
       "      <th>alto</th>\n",
       "      <th>clase</th>\n",
       "    </tr>\n",
       "  </thead>\n",
       "  <tbody>\n",
       "    <tr>\n",
       "      <th>2</th>\n",
       "      <td>32.39</td>\n",
       "      <td>32.97</td>\n",
       "      <td>Clase 1</td>\n",
       "    </tr>\n",
       "    <tr>\n",
       "      <th>4</th>\n",
       "      <td>30.82</td>\n",
       "      <td>43.33</td>\n",
       "      <td>Clase 1</td>\n",
       "    </tr>\n",
       "    <tr>\n",
       "      <th>6</th>\n",
       "      <td>36.36</td>\n",
       "      <td>38.31</td>\n",
       "      <td>Clase 1</td>\n",
       "    </tr>\n",
       "    <tr>\n",
       "      <th>7</th>\n",
       "      <td>31.63</td>\n",
       "      <td>31.34</td>\n",
       "      <td>Clase 1</td>\n",
       "    </tr>\n",
       "    <tr>\n",
       "      <th>10</th>\n",
       "      <td>29.43</td>\n",
       "      <td>33.21</td>\n",
       "      <td>Clase 1</td>\n",
       "    </tr>\n",
       "  </tbody>\n",
       "</table>\n",
       "</div>"
      ],
      "text/plain": [
       "    ancho   alto    clase\n",
       "2   32.39  32.97  Clase 1\n",
       "4   30.82  43.33  Clase 1\n",
       "6   36.36  38.31  Clase 1\n",
       "7   31.63  31.34  Clase 1\n",
       "10  29.43  33.21  Clase 1"
      ]
     },
     "execution_count": 6,
     "metadata": {},
     "output_type": "execute_result"
    }
   ],
   "source": [
    "data.head()"
   ]
  },
  {
   "cell_type": "code",
   "execution_count": null,
   "metadata": {},
   "outputs": [],
   "source": []
  }
 ],
 "metadata": {
  "kernelspec": {
   "display_name": "Python 3",
   "language": "python",
   "name": "python3"
  },
  "language_info": {
   "codemirror_mode": {
    "name": "ipython",
    "version": 3
   },
   "file_extension": ".py",
   "mimetype": "text/x-python",
   "name": "python",
   "nbconvert_exporter": "python",
   "pygments_lexer": "ipython3",
   "version": "3.7.1"
  }
 },
 "nbformat": 4,
 "nbformat_minor": 2
}
